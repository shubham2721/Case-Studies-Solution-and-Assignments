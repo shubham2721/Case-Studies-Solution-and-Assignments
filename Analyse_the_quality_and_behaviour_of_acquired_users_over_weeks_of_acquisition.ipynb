{
  "nbformat": 4,
  "nbformat_minor": 0,
  "metadata": {
    "colab": {
      "provenance": [],
      "collapsed_sections": [],
      "include_colab_link": true
    },
    "kernelspec": {
      "name": "python3",
      "display_name": "Python 3"
    },
    "language_info": {
      "name": "python"
    }
  },
  "cells": [
    {
      "cell_type": "markdown",
      "metadata": {
        "id": "view-in-github",
        "colab_type": "text"
      },
      "source": [
        "<a href=\"https://colab.research.google.com/github/shubham2721/Case-Studies-Solution-and-Assignments/blob/main/Analyse_the_quality_and_behaviour_of_acquired_users_over_weeks_of_acquisition.ipynb\" target=\"_parent\"><img src=\"https://colab.research.google.com/assets/colab-badge.svg\" alt=\"Open In Colab\"/></a>"
      ]
    },
    {
      "cell_type": "markdown",
      "source": [
        "# <H1>**Date on date Install vs purchase over next five weeks of installation**</H1>"
      ],
      "metadata": {
        "id": "SMF7cXl59ZO-"
      }
    },
    {
      "cell_type": "markdown",
      "source": [
        "## <b>Problem Statement:</b>\n",
        "ABC is an E-Commerce. It has an app where customers can purchase.\n",
        "Marketing team at ABC wants to analyse the quality and behaviour of acquired users over weeks of acquisition.\n",
        "\n",
        "**Output required** : Give a cohort view for Nov and Dec 2019, Date on date Install vs purchase over next five weeks of installation.\n"
      ],
      "metadata": {
        "id": "QXM1kNzU7q_i"
      }
    },
    {
      "cell_type": "code",
      "source": [
        "# this library is used to download data from the link \n",
        "!pip install opendatasets --upgrade"
      ],
      "metadata": {
        "id": "dF7-3m036EzK",
        "colab": {
          "base_uri": "https://localhost:8080/"
        },
        "outputId": "ae296a9d-7528-466d-e276-5bbe629ce69b"
      },
      "execution_count": 1,
      "outputs": [
        {
          "output_type": "stream",
          "name": "stdout",
          "text": [
            "Looking in indexes: https://pypi.org/simple, https://us-python.pkg.dev/colab-wheels/public/simple/\n",
            "Collecting opendatasets\n",
            "  Downloading opendatasets-0.1.22-py3-none-any.whl (15 kB)\n",
            "Requirement already satisfied: kaggle in /usr/local/lib/python3.7/dist-packages (from opendatasets) (1.5.12)\n",
            "Requirement already satisfied: click in /usr/local/lib/python3.7/dist-packages (from opendatasets) (7.1.2)\n",
            "Requirement already satisfied: tqdm in /usr/local/lib/python3.7/dist-packages (from opendatasets) (4.64.1)\n",
            "Requirement already satisfied: requests in /usr/local/lib/python3.7/dist-packages (from kaggle->opendatasets) (2.23.0)\n",
            "Requirement already satisfied: certifi in /usr/local/lib/python3.7/dist-packages (from kaggle->opendatasets) (2022.9.24)\n",
            "Requirement already satisfied: python-dateutil in /usr/local/lib/python3.7/dist-packages (from kaggle->opendatasets) (2.8.2)\n",
            "Requirement already satisfied: six>=1.10 in /usr/local/lib/python3.7/dist-packages (from kaggle->opendatasets) (1.15.0)\n",
            "Requirement already satisfied: urllib3 in /usr/local/lib/python3.7/dist-packages (from kaggle->opendatasets) (1.24.3)\n",
            "Requirement already satisfied: python-slugify in /usr/local/lib/python3.7/dist-packages (from kaggle->opendatasets) (6.1.2)\n",
            "Requirement already satisfied: text-unidecode>=1.3 in /usr/local/lib/python3.7/dist-packages (from python-slugify->kaggle->opendatasets) (1.3)\n",
            "Requirement already satisfied: chardet<4,>=3.0.2 in /usr/local/lib/python3.7/dist-packages (from requests->kaggle->opendatasets) (3.0.4)\n",
            "Requirement already satisfied: idna<3,>=2.5 in /usr/local/lib/python3.7/dist-packages (from requests->kaggle->opendatasets) (2.10)\n",
            "Installing collected packages: opendatasets\n",
            "Successfully installed opendatasets-0.1.22\n"
          ]
        }
      ]
    },
    {
      "cell_type": "markdown",
      "source": [
        "# <b>Importing Necessary Libraries</b>\n",
        "- **pandas** - Data Transformation and manipulation\n",
        "- **numpy** - Provides Mathematical Functions\n",
        "- **opendatasets** - for downloading datasets from open links\n",
        "- **datetime** - for manipulating dates and times"
      ],
      "metadata": {
        "id": "1ljJPcte8uJO"
      }
    },
    {
      "cell_type": "code",
      "execution_count": 2,
      "metadata": {
        "id": "tU3IkShu6Q-T"
      },
      "outputs": [],
      "source": [
        "import pandas as pd\n",
        "import numpy as np\n",
        "import opendatasets as od\n",
        "import datetime"
      ]
    },
    {
      "cell_type": "code",
      "source": [
        "# Downloading Data Sets\n",
        "od.download('https://drive.google.com/file/d/1DT6ZBhEOXBCsOobQqW0xKwdVSgK_Tg-I/view?usp=sharing')\n",
        "od.download('https://drive.google.com/file/d/1iWFR6PWYnEGeyXAvEJ1n4OQ2ap8audFY/view?usp=sharing')"
      ],
      "metadata": {
        "id": "xfSMrBcx66GR",
        "colab": {
          "base_uri": "https://localhost:8080/"
        },
        "outputId": "06bbf704-22e3-414b-c4ee-5be7b1511c12"
      },
      "execution_count": 3,
      "outputs": [
        {
          "output_type": "stream",
          "name": "stdout",
          "text": [
            "Downloading from Google Drive (may take a while): https://drive.google.com/file/d/1DT6ZBhEOXBCsOobQqW0xKwdVSgK_Tg-I/view?usp=sharing\n"
          ]
        },
        {
          "output_type": "stream",
          "name": "stderr",
          "text": [
            "1510613it [00:00, 235765801.46it/s]\n"
          ]
        },
        {
          "output_type": "stream",
          "name": "stdout",
          "text": [
            "Downloaded to  ./install.csv\n",
            "Downloading from Google Drive (may take a while): https://drive.google.com/file/d/1iWFR6PWYnEGeyXAvEJ1n4OQ2ap8audFY/view?usp=sharing\n"
          ]
        },
        {
          "output_type": "stream",
          "name": "stderr",
          "text": [
            "291439it [00:00, 189428756.15it/s]"
          ]
        },
        {
          "output_type": "stream",
          "name": "stdout",
          "text": [
            "Downloaded to  ./purchase.csv\n"
          ]
        },
        {
          "output_type": "stream",
          "name": "stderr",
          "text": [
            "\n"
          ]
        }
      ]
    },
    {
      "cell_type": "markdown",
      "source": [
        "**Data Summary:** \n",
        "- `install.csv` gives the data for each install, install date and source.\n",
        "- purchase.csv gives the install date of the purchase made, purchase date and source.\n"
      ],
      "metadata": {
        "id": "VBBjyGlO-Gh3"
      }
    },
    {
      "cell_type": "code",
      "source": [
        "#Loading Datasets to two different DataFrames\n",
        "install = pd.read_csv('/content/install.csv')\n",
        "purchase = pd.read_csv('/content/purchase.csv')"
      ],
      "metadata": {
        "id": "5WUSP8hl7JjM"
      },
      "execution_count": 4,
      "outputs": []
    },
    {
      "cell_type": "code",
      "source": [
        "#viewing the first five rows of install dataframe\n",
        "install.head()"
      ],
      "metadata": {
        "colab": {
          "base_uri": "https://localhost:8080/",
          "height": 206
        },
        "id": "D9cT_B4U7NRx",
        "outputId": "7b260f22-a7e7-49ef-ffcb-a71c9d16fca3"
      },
      "execution_count": 5,
      "outputs": [
        {
          "output_type": "execute_result",
          "data": {
            "text/plain": [
              "  Event Name  Media Source Install Date\n",
              "0    install  Facebook Ads   2019-11-30\n",
              "1    install  Facebook Ads   2019-11-30\n",
              "2    install  Facebook Ads   2019-11-30\n",
              "3    install  Facebook Ads   2019-11-30\n",
              "4    install  Facebook Ads   2019-11-30"
            ],
            "text/html": [
              "\n",
              "  <div id=\"df-0df556e6-6465-4ead-bc83-8697fa39270a\">\n",
              "    <div class=\"colab-df-container\">\n",
              "      <div>\n",
              "<style scoped>\n",
              "    .dataframe tbody tr th:only-of-type {\n",
              "        vertical-align: middle;\n",
              "    }\n",
              "\n",
              "    .dataframe tbody tr th {\n",
              "        vertical-align: top;\n",
              "    }\n",
              "\n",
              "    .dataframe thead th {\n",
              "        text-align: right;\n",
              "    }\n",
              "</style>\n",
              "<table border=\"1\" class=\"dataframe\">\n",
              "  <thead>\n",
              "    <tr style=\"text-align: right;\">\n",
              "      <th></th>\n",
              "      <th>Event Name</th>\n",
              "      <th>Media Source</th>\n",
              "      <th>Install Date</th>\n",
              "    </tr>\n",
              "  </thead>\n",
              "  <tbody>\n",
              "    <tr>\n",
              "      <th>0</th>\n",
              "      <td>install</td>\n",
              "      <td>Facebook Ads</td>\n",
              "      <td>2019-11-30</td>\n",
              "    </tr>\n",
              "    <tr>\n",
              "      <th>1</th>\n",
              "      <td>install</td>\n",
              "      <td>Facebook Ads</td>\n",
              "      <td>2019-11-30</td>\n",
              "    </tr>\n",
              "    <tr>\n",
              "      <th>2</th>\n",
              "      <td>install</td>\n",
              "      <td>Facebook Ads</td>\n",
              "      <td>2019-11-30</td>\n",
              "    </tr>\n",
              "    <tr>\n",
              "      <th>3</th>\n",
              "      <td>install</td>\n",
              "      <td>Facebook Ads</td>\n",
              "      <td>2019-11-30</td>\n",
              "    </tr>\n",
              "    <tr>\n",
              "      <th>4</th>\n",
              "      <td>install</td>\n",
              "      <td>Facebook Ads</td>\n",
              "      <td>2019-11-30</td>\n",
              "    </tr>\n",
              "  </tbody>\n",
              "</table>\n",
              "</div>\n",
              "      <button class=\"colab-df-convert\" onclick=\"convertToInteractive('df-0df556e6-6465-4ead-bc83-8697fa39270a')\"\n",
              "              title=\"Convert this dataframe to an interactive table.\"\n",
              "              style=\"display:none;\">\n",
              "        \n",
              "  <svg xmlns=\"http://www.w3.org/2000/svg\" height=\"24px\"viewBox=\"0 0 24 24\"\n",
              "       width=\"24px\">\n",
              "    <path d=\"M0 0h24v24H0V0z\" fill=\"none\"/>\n",
              "    <path d=\"M18.56 5.44l.94 2.06.94-2.06 2.06-.94-2.06-.94-.94-2.06-.94 2.06-2.06.94zm-11 1L8.5 8.5l.94-2.06 2.06-.94-2.06-.94L8.5 2.5l-.94 2.06-2.06.94zm10 10l.94 2.06.94-2.06 2.06-.94-2.06-.94-.94-2.06-.94 2.06-2.06.94z\"/><path d=\"M17.41 7.96l-1.37-1.37c-.4-.4-.92-.59-1.43-.59-.52 0-1.04.2-1.43.59L10.3 9.45l-7.72 7.72c-.78.78-.78 2.05 0 2.83L4 21.41c.39.39.9.59 1.41.59.51 0 1.02-.2 1.41-.59l7.78-7.78 2.81-2.81c.8-.78.8-2.07 0-2.86zM5.41 20L4 18.59l7.72-7.72 1.47 1.35L5.41 20z\"/>\n",
              "  </svg>\n",
              "      </button>\n",
              "      \n",
              "  <style>\n",
              "    .colab-df-container {\n",
              "      display:flex;\n",
              "      flex-wrap:wrap;\n",
              "      gap: 12px;\n",
              "    }\n",
              "\n",
              "    .colab-df-convert {\n",
              "      background-color: #E8F0FE;\n",
              "      border: none;\n",
              "      border-radius: 50%;\n",
              "      cursor: pointer;\n",
              "      display: none;\n",
              "      fill: #1967D2;\n",
              "      height: 32px;\n",
              "      padding: 0 0 0 0;\n",
              "      width: 32px;\n",
              "    }\n",
              "\n",
              "    .colab-df-convert:hover {\n",
              "      background-color: #E2EBFA;\n",
              "      box-shadow: 0px 1px 2px rgba(60, 64, 67, 0.3), 0px 1px 3px 1px rgba(60, 64, 67, 0.15);\n",
              "      fill: #174EA6;\n",
              "    }\n",
              "\n",
              "    [theme=dark] .colab-df-convert {\n",
              "      background-color: #3B4455;\n",
              "      fill: #D2E3FC;\n",
              "    }\n",
              "\n",
              "    [theme=dark] .colab-df-convert:hover {\n",
              "      background-color: #434B5C;\n",
              "      box-shadow: 0px 1px 3px 1px rgba(0, 0, 0, 0.15);\n",
              "      filter: drop-shadow(0px 1px 2px rgba(0, 0, 0, 0.3));\n",
              "      fill: #FFFFFF;\n",
              "    }\n",
              "  </style>\n",
              "\n",
              "      <script>\n",
              "        const buttonEl =\n",
              "          document.querySelector('#df-0df556e6-6465-4ead-bc83-8697fa39270a button.colab-df-convert');\n",
              "        buttonEl.style.display =\n",
              "          google.colab.kernel.accessAllowed ? 'block' : 'none';\n",
              "\n",
              "        async function convertToInteractive(key) {\n",
              "          const element = document.querySelector('#df-0df556e6-6465-4ead-bc83-8697fa39270a');\n",
              "          const dataTable =\n",
              "            await google.colab.kernel.invokeFunction('convertToInteractive',\n",
              "                                                     [key], {});\n",
              "          if (!dataTable) return;\n",
              "\n",
              "          const docLinkHtml = 'Like what you see? Visit the ' +\n",
              "            '<a target=\"_blank\" href=https://colab.research.google.com/notebooks/data_table.ipynb>data table notebook</a>'\n",
              "            + ' to learn more about interactive tables.';\n",
              "          element.innerHTML = '';\n",
              "          dataTable['output_type'] = 'display_data';\n",
              "          await google.colab.output.renderOutput(dataTable, element);\n",
              "          const docLink = document.createElement('div');\n",
              "          docLink.innerHTML = docLinkHtml;\n",
              "          element.appendChild(docLink);\n",
              "        }\n",
              "      </script>\n",
              "    </div>\n",
              "  </div>\n",
              "  "
            ]
          },
          "metadata": {},
          "execution_count": 5
        }
      ]
    },
    {
      "cell_type": "code",
      "source": [
        "install.dtypes"
      ],
      "metadata": {
        "colab": {
          "base_uri": "https://localhost:8080/"
        },
        "id": "y5dyCPKPA69o",
        "outputId": "beb7ef9f-38ab-4930-cc16-307c8cba228b"
      },
      "execution_count": 6,
      "outputs": [
        {
          "output_type": "execute_result",
          "data": {
            "text/plain": [
              "Event Name      object\n",
              "Media Source    object\n",
              "Install Date    object\n",
              "dtype: object"
            ]
          },
          "metadata": {},
          "execution_count": 6
        }
      ]
    },
    {
      "cell_type": "markdown",
      "source": [
        "Counting the total number of installs per day and storing them to total_install_counts"
      ],
      "metadata": {
        "id": "rLRV0Cuq_VRw"
      }
    },
    {
      "cell_type": "code",
      "source": [
        "total_install_counts = install.groupby(by = 'Install Date').count().drop(columns = 'Media Source').reset_index()\n",
        "total_install_counts.rename(columns = {'Event Name': 'No of Installs'}, inplace = True) # renaming the column name"
      ],
      "metadata": {
        "id": "D3kgdSG57SMw"
      },
      "execution_count": 7,
      "outputs": []
    },
    {
      "cell_type": "code",
      "source": [
        "total_install_counts.head()"
      ],
      "metadata": {
        "colab": {
          "base_uri": "https://localhost:8080/",
          "height": 206
        },
        "id": "sThHgg7wAmGR",
        "outputId": "5677513c-f81d-4ab4-83d1-bdeaa671f64d"
      },
      "execution_count": 8,
      "outputs": [
        {
          "output_type": "execute_result",
          "data": {
            "text/plain": [
              "  Install Date  No of Installs\n",
              "0   2019-11-01            1031\n",
              "1   2019-11-02            1177\n",
              "2   2019-11-03            1335\n",
              "3   2019-11-04             777\n",
              "4   2019-11-05             977"
            ],
            "text/html": [
              "\n",
              "  <div id=\"df-24b1af9c-b748-427d-a95f-5656c5ed10ae\">\n",
              "    <div class=\"colab-df-container\">\n",
              "      <div>\n",
              "<style scoped>\n",
              "    .dataframe tbody tr th:only-of-type {\n",
              "        vertical-align: middle;\n",
              "    }\n",
              "\n",
              "    .dataframe tbody tr th {\n",
              "        vertical-align: top;\n",
              "    }\n",
              "\n",
              "    .dataframe thead th {\n",
              "        text-align: right;\n",
              "    }\n",
              "</style>\n",
              "<table border=\"1\" class=\"dataframe\">\n",
              "  <thead>\n",
              "    <tr style=\"text-align: right;\">\n",
              "      <th></th>\n",
              "      <th>Install Date</th>\n",
              "      <th>No of Installs</th>\n",
              "    </tr>\n",
              "  </thead>\n",
              "  <tbody>\n",
              "    <tr>\n",
              "      <th>0</th>\n",
              "      <td>2019-11-01</td>\n",
              "      <td>1031</td>\n",
              "    </tr>\n",
              "    <tr>\n",
              "      <th>1</th>\n",
              "      <td>2019-11-02</td>\n",
              "      <td>1177</td>\n",
              "    </tr>\n",
              "    <tr>\n",
              "      <th>2</th>\n",
              "      <td>2019-11-03</td>\n",
              "      <td>1335</td>\n",
              "    </tr>\n",
              "    <tr>\n",
              "      <th>3</th>\n",
              "      <td>2019-11-04</td>\n",
              "      <td>777</td>\n",
              "    </tr>\n",
              "    <tr>\n",
              "      <th>4</th>\n",
              "      <td>2019-11-05</td>\n",
              "      <td>977</td>\n",
              "    </tr>\n",
              "  </tbody>\n",
              "</table>\n",
              "</div>\n",
              "      <button class=\"colab-df-convert\" onclick=\"convertToInteractive('df-24b1af9c-b748-427d-a95f-5656c5ed10ae')\"\n",
              "              title=\"Convert this dataframe to an interactive table.\"\n",
              "              style=\"display:none;\">\n",
              "        \n",
              "  <svg xmlns=\"http://www.w3.org/2000/svg\" height=\"24px\"viewBox=\"0 0 24 24\"\n",
              "       width=\"24px\">\n",
              "    <path d=\"M0 0h24v24H0V0z\" fill=\"none\"/>\n",
              "    <path d=\"M18.56 5.44l.94 2.06.94-2.06 2.06-.94-2.06-.94-.94-2.06-.94 2.06-2.06.94zm-11 1L8.5 8.5l.94-2.06 2.06-.94-2.06-.94L8.5 2.5l-.94 2.06-2.06.94zm10 10l.94 2.06.94-2.06 2.06-.94-2.06-.94-.94-2.06-.94 2.06-2.06.94z\"/><path d=\"M17.41 7.96l-1.37-1.37c-.4-.4-.92-.59-1.43-.59-.52 0-1.04.2-1.43.59L10.3 9.45l-7.72 7.72c-.78.78-.78 2.05 0 2.83L4 21.41c.39.39.9.59 1.41.59.51 0 1.02-.2 1.41-.59l7.78-7.78 2.81-2.81c.8-.78.8-2.07 0-2.86zM5.41 20L4 18.59l7.72-7.72 1.47 1.35L5.41 20z\"/>\n",
              "  </svg>\n",
              "      </button>\n",
              "      \n",
              "  <style>\n",
              "    .colab-df-container {\n",
              "      display:flex;\n",
              "      flex-wrap:wrap;\n",
              "      gap: 12px;\n",
              "    }\n",
              "\n",
              "    .colab-df-convert {\n",
              "      background-color: #E8F0FE;\n",
              "      border: none;\n",
              "      border-radius: 50%;\n",
              "      cursor: pointer;\n",
              "      display: none;\n",
              "      fill: #1967D2;\n",
              "      height: 32px;\n",
              "      padding: 0 0 0 0;\n",
              "      width: 32px;\n",
              "    }\n",
              "\n",
              "    .colab-df-convert:hover {\n",
              "      background-color: #E2EBFA;\n",
              "      box-shadow: 0px 1px 2px rgba(60, 64, 67, 0.3), 0px 1px 3px 1px rgba(60, 64, 67, 0.15);\n",
              "      fill: #174EA6;\n",
              "    }\n",
              "\n",
              "    [theme=dark] .colab-df-convert {\n",
              "      background-color: #3B4455;\n",
              "      fill: #D2E3FC;\n",
              "    }\n",
              "\n",
              "    [theme=dark] .colab-df-convert:hover {\n",
              "      background-color: #434B5C;\n",
              "      box-shadow: 0px 1px 3px 1px rgba(0, 0, 0, 0.15);\n",
              "      filter: drop-shadow(0px 1px 2px rgba(0, 0, 0, 0.3));\n",
              "      fill: #FFFFFF;\n",
              "    }\n",
              "  </style>\n",
              "\n",
              "      <script>\n",
              "        const buttonEl =\n",
              "          document.querySelector('#df-24b1af9c-b748-427d-a95f-5656c5ed10ae button.colab-df-convert');\n",
              "        buttonEl.style.display =\n",
              "          google.colab.kernel.accessAllowed ? 'block' : 'none';\n",
              "\n",
              "        async function convertToInteractive(key) {\n",
              "          const element = document.querySelector('#df-24b1af9c-b748-427d-a95f-5656c5ed10ae');\n",
              "          const dataTable =\n",
              "            await google.colab.kernel.invokeFunction('convertToInteractive',\n",
              "                                                     [key], {});\n",
              "          if (!dataTable) return;\n",
              "\n",
              "          const docLinkHtml = 'Like what you see? Visit the ' +\n",
              "            '<a target=\"_blank\" href=https://colab.research.google.com/notebooks/data_table.ipynb>data table notebook</a>'\n",
              "            + ' to learn more about interactive tables.';\n",
              "          element.innerHTML = '';\n",
              "          dataTable['output_type'] = 'display_data';\n",
              "          await google.colab.output.renderOutput(dataTable, element);\n",
              "          const docLink = document.createElement('div');\n",
              "          docLink.innerHTML = docLinkHtml;\n",
              "          element.appendChild(docLink);\n",
              "        }\n",
              "      </script>\n",
              "    </div>\n",
              "  </div>\n",
              "  "
            ]
          },
          "metadata": {},
          "execution_count": 8
        }
      ]
    },
    {
      "cell_type": "code",
      "source": [
        "total_install_counts.shape"
      ],
      "metadata": {
        "colab": {
          "base_uri": "https://localhost:8080/"
        },
        "id": "xBCFyXw_AcEM",
        "outputId": "81c39108-ab01-4f46-c125-339ed9e765dc"
      },
      "execution_count": 9,
      "outputs": [
        {
          "output_type": "execute_result",
          "data": {
            "text/plain": [
              "(60, 2)"
            ]
          },
          "metadata": {},
          "execution_count": 9
        }
      ]
    },
    {
      "cell_type": "markdown",
      "source": [
        "Counting the total number of purchase made week wise according to their install date"
      ],
      "metadata": {
        "id": "zd-iwTriAYYz"
      }
    },
    {
      "cell_type": "code",
      "source": [
        "#viewing the first five rows of purchase dataframe\n",
        "purchase.head()"
      ],
      "metadata": {
        "colab": {
          "base_uri": "https://localhost:8080/",
          "height": 206
        },
        "id": "ntDPrHdV7PN2",
        "outputId": "761e29d1-ffb0-4733-e863-b13b76f9e427"
      },
      "execution_count": 10,
      "outputs": [
        {
          "output_type": "execute_result",
          "data": {
            "text/plain": [
              "          Install Time           Event Time   Event Name  Media Source\n",
              "0  2019-11-30 22:08:07  2019-11-30 23:17:10  af_purchase  Facebook Ads\n",
              "1  2019-11-30 15:22:04  2019-11-30 22:52:38  af_purchase  Facebook Ads\n",
              "2  2019-11-30 22:10:07  2019-11-30 22:43:50  af_purchase  Facebook Ads\n",
              "3  2019-11-30 15:24:47  2019-11-30 22:43:37  af_purchase  Facebook Ads\n",
              "4  2019-11-26 23:12:56  2019-11-30 22:38:23  af_purchase  Facebook Ads"
            ],
            "text/html": [
              "\n",
              "  <div id=\"df-cca427f1-03fc-4aed-8a02-14067a54695c\">\n",
              "    <div class=\"colab-df-container\">\n",
              "      <div>\n",
              "<style scoped>\n",
              "    .dataframe tbody tr th:only-of-type {\n",
              "        vertical-align: middle;\n",
              "    }\n",
              "\n",
              "    .dataframe tbody tr th {\n",
              "        vertical-align: top;\n",
              "    }\n",
              "\n",
              "    .dataframe thead th {\n",
              "        text-align: right;\n",
              "    }\n",
              "</style>\n",
              "<table border=\"1\" class=\"dataframe\">\n",
              "  <thead>\n",
              "    <tr style=\"text-align: right;\">\n",
              "      <th></th>\n",
              "      <th>Install Time</th>\n",
              "      <th>Event Time</th>\n",
              "      <th>Event Name</th>\n",
              "      <th>Media Source</th>\n",
              "    </tr>\n",
              "  </thead>\n",
              "  <tbody>\n",
              "    <tr>\n",
              "      <th>0</th>\n",
              "      <td>2019-11-30 22:08:07</td>\n",
              "      <td>2019-11-30 23:17:10</td>\n",
              "      <td>af_purchase</td>\n",
              "      <td>Facebook Ads</td>\n",
              "    </tr>\n",
              "    <tr>\n",
              "      <th>1</th>\n",
              "      <td>2019-11-30 15:22:04</td>\n",
              "      <td>2019-11-30 22:52:38</td>\n",
              "      <td>af_purchase</td>\n",
              "      <td>Facebook Ads</td>\n",
              "    </tr>\n",
              "    <tr>\n",
              "      <th>2</th>\n",
              "      <td>2019-11-30 22:10:07</td>\n",
              "      <td>2019-11-30 22:43:50</td>\n",
              "      <td>af_purchase</td>\n",
              "      <td>Facebook Ads</td>\n",
              "    </tr>\n",
              "    <tr>\n",
              "      <th>3</th>\n",
              "      <td>2019-11-30 15:24:47</td>\n",
              "      <td>2019-11-30 22:43:37</td>\n",
              "      <td>af_purchase</td>\n",
              "      <td>Facebook Ads</td>\n",
              "    </tr>\n",
              "    <tr>\n",
              "      <th>4</th>\n",
              "      <td>2019-11-26 23:12:56</td>\n",
              "      <td>2019-11-30 22:38:23</td>\n",
              "      <td>af_purchase</td>\n",
              "      <td>Facebook Ads</td>\n",
              "    </tr>\n",
              "  </tbody>\n",
              "</table>\n",
              "</div>\n",
              "      <button class=\"colab-df-convert\" onclick=\"convertToInteractive('df-cca427f1-03fc-4aed-8a02-14067a54695c')\"\n",
              "              title=\"Convert this dataframe to an interactive table.\"\n",
              "              style=\"display:none;\">\n",
              "        \n",
              "  <svg xmlns=\"http://www.w3.org/2000/svg\" height=\"24px\"viewBox=\"0 0 24 24\"\n",
              "       width=\"24px\">\n",
              "    <path d=\"M0 0h24v24H0V0z\" fill=\"none\"/>\n",
              "    <path d=\"M18.56 5.44l.94 2.06.94-2.06 2.06-.94-2.06-.94-.94-2.06-.94 2.06-2.06.94zm-11 1L8.5 8.5l.94-2.06 2.06-.94-2.06-.94L8.5 2.5l-.94 2.06-2.06.94zm10 10l.94 2.06.94-2.06 2.06-.94-2.06-.94-.94-2.06-.94 2.06-2.06.94z\"/><path d=\"M17.41 7.96l-1.37-1.37c-.4-.4-.92-.59-1.43-.59-.52 0-1.04.2-1.43.59L10.3 9.45l-7.72 7.72c-.78.78-.78 2.05 0 2.83L4 21.41c.39.39.9.59 1.41.59.51 0 1.02-.2 1.41-.59l7.78-7.78 2.81-2.81c.8-.78.8-2.07 0-2.86zM5.41 20L4 18.59l7.72-7.72 1.47 1.35L5.41 20z\"/>\n",
              "  </svg>\n",
              "      </button>\n",
              "      \n",
              "  <style>\n",
              "    .colab-df-container {\n",
              "      display:flex;\n",
              "      flex-wrap:wrap;\n",
              "      gap: 12px;\n",
              "    }\n",
              "\n",
              "    .colab-df-convert {\n",
              "      background-color: #E8F0FE;\n",
              "      border: none;\n",
              "      border-radius: 50%;\n",
              "      cursor: pointer;\n",
              "      display: none;\n",
              "      fill: #1967D2;\n",
              "      height: 32px;\n",
              "      padding: 0 0 0 0;\n",
              "      width: 32px;\n",
              "    }\n",
              "\n",
              "    .colab-df-convert:hover {\n",
              "      background-color: #E2EBFA;\n",
              "      box-shadow: 0px 1px 2px rgba(60, 64, 67, 0.3), 0px 1px 3px 1px rgba(60, 64, 67, 0.15);\n",
              "      fill: #174EA6;\n",
              "    }\n",
              "\n",
              "    [theme=dark] .colab-df-convert {\n",
              "      background-color: #3B4455;\n",
              "      fill: #D2E3FC;\n",
              "    }\n",
              "\n",
              "    [theme=dark] .colab-df-convert:hover {\n",
              "      background-color: #434B5C;\n",
              "      box-shadow: 0px 1px 3px 1px rgba(0, 0, 0, 0.15);\n",
              "      filter: drop-shadow(0px 1px 2px rgba(0, 0, 0, 0.3));\n",
              "      fill: #FFFFFF;\n",
              "    }\n",
              "  </style>\n",
              "\n",
              "      <script>\n",
              "        const buttonEl =\n",
              "          document.querySelector('#df-cca427f1-03fc-4aed-8a02-14067a54695c button.colab-df-convert');\n",
              "        buttonEl.style.display =\n",
              "          google.colab.kernel.accessAllowed ? 'block' : 'none';\n",
              "\n",
              "        async function convertToInteractive(key) {\n",
              "          const element = document.querySelector('#df-cca427f1-03fc-4aed-8a02-14067a54695c');\n",
              "          const dataTable =\n",
              "            await google.colab.kernel.invokeFunction('convertToInteractive',\n",
              "                                                     [key], {});\n",
              "          if (!dataTable) return;\n",
              "\n",
              "          const docLinkHtml = 'Like what you see? Visit the ' +\n",
              "            '<a target=\"_blank\" href=https://colab.research.google.com/notebooks/data_table.ipynb>data table notebook</a>'\n",
              "            + ' to learn more about interactive tables.';\n",
              "          element.innerHTML = '';\n",
              "          dataTable['output_type'] = 'display_data';\n",
              "          await google.colab.output.renderOutput(dataTable, element);\n",
              "          const docLink = document.createElement('div');\n",
              "          docLink.innerHTML = docLinkHtml;\n",
              "          element.appendChild(docLink);\n",
              "        }\n",
              "      </script>\n",
              "    </div>\n",
              "  </div>\n",
              "  "
            ]
          },
          "metadata": {},
          "execution_count": 10
        }
      ]
    },
    {
      "cell_type": "code",
      "source": [
        "purchase.dtypes"
      ],
      "metadata": {
        "colab": {
          "base_uri": "https://localhost:8080/"
        },
        "id": "HaL5orFf8fAR",
        "outputId": "285d04f5-ecab-47a0-e5d6-8092ad51d08e"
      },
      "execution_count": 11,
      "outputs": [
        {
          "output_type": "execute_result",
          "data": {
            "text/plain": [
              "Install Time    object\n",
              "Event Time      object\n",
              "Event Name      object\n",
              "Media Source    object\n",
              "dtype: object"
            ]
          },
          "metadata": {},
          "execution_count": 11
        }
      ]
    },
    {
      "cell_type": "code",
      "source": [
        "#Converting the Install Time and Event Time from object to Date time format\n",
        "purchase['Install Time'] = pd.to_datetime(purchase['Install Time'])\n",
        "purchase['Event Time'] = pd.to_datetime(purchase['Event Time'])"
      ],
      "metadata": {
        "id": "C8J7HMa_8jVi"
      },
      "execution_count": 12,
      "outputs": []
    },
    {
      "cell_type": "markdown",
      "source": [
        "Creating Two new columns for only Date as based on this columns week wise count will be calculated."
      ],
      "metadata": {
        "id": "RiQ8rYtFBwDB"
      }
    },
    {
      "cell_type": "markdown",
      "source": [
        "![Image](https:// [link text](https://))https://miro.medium.com/max/1400/1*iNZ03wgi3djsRbMx5gD9jA.png"
      ],
      "metadata": {
        "id": "yz1Z6cammdVx"
      }
    },
    {
      "cell_type": "code",
      "source": [
        "purchase['Install Date'] = purchase['Install Time'].dt.strftime(\"%Y-%m-%d\")\n",
        "purchase['Event Date'] = purchase['Event Time'].dt.strftime(\"%Y-%m-%d\")"
      ],
      "metadata": {
        "id": "99FEAx3z7tT5"
      },
      "execution_count": 13,
      "outputs": []
    },
    {
      "cell_type": "code",
      "source": [
        "purchase.head()"
      ],
      "metadata": {
        "colab": {
          "base_uri": "https://localhost:8080/",
          "height": 206
        },
        "id": "KfP5h-iq-UoW",
        "outputId": "63c0b730-6b06-49c3-cf27-aa0c36f77cfa"
      },
      "execution_count": 14,
      "outputs": [
        {
          "output_type": "execute_result",
          "data": {
            "text/plain": [
              "         Install Time          Event Time   Event Name  Media Source  \\\n",
              "0 2019-11-30 22:08:07 2019-11-30 23:17:10  af_purchase  Facebook Ads   \n",
              "1 2019-11-30 15:22:04 2019-11-30 22:52:38  af_purchase  Facebook Ads   \n",
              "2 2019-11-30 22:10:07 2019-11-30 22:43:50  af_purchase  Facebook Ads   \n",
              "3 2019-11-30 15:24:47 2019-11-30 22:43:37  af_purchase  Facebook Ads   \n",
              "4 2019-11-26 23:12:56 2019-11-30 22:38:23  af_purchase  Facebook Ads   \n",
              "\n",
              "  Install Date  Event Date  \n",
              "0   2019-11-30  2019-11-30  \n",
              "1   2019-11-30  2019-11-30  \n",
              "2   2019-11-30  2019-11-30  \n",
              "3   2019-11-30  2019-11-30  \n",
              "4   2019-11-26  2019-11-30  "
            ],
            "text/html": [
              "\n",
              "  <div id=\"df-9a9460ee-9d71-4249-b575-c31945f62b6c\">\n",
              "    <div class=\"colab-df-container\">\n",
              "      <div>\n",
              "<style scoped>\n",
              "    .dataframe tbody tr th:only-of-type {\n",
              "        vertical-align: middle;\n",
              "    }\n",
              "\n",
              "    .dataframe tbody tr th {\n",
              "        vertical-align: top;\n",
              "    }\n",
              "\n",
              "    .dataframe thead th {\n",
              "        text-align: right;\n",
              "    }\n",
              "</style>\n",
              "<table border=\"1\" class=\"dataframe\">\n",
              "  <thead>\n",
              "    <tr style=\"text-align: right;\">\n",
              "      <th></th>\n",
              "      <th>Install Time</th>\n",
              "      <th>Event Time</th>\n",
              "      <th>Event Name</th>\n",
              "      <th>Media Source</th>\n",
              "      <th>Install Date</th>\n",
              "      <th>Event Date</th>\n",
              "    </tr>\n",
              "  </thead>\n",
              "  <tbody>\n",
              "    <tr>\n",
              "      <th>0</th>\n",
              "      <td>2019-11-30 22:08:07</td>\n",
              "      <td>2019-11-30 23:17:10</td>\n",
              "      <td>af_purchase</td>\n",
              "      <td>Facebook Ads</td>\n",
              "      <td>2019-11-30</td>\n",
              "      <td>2019-11-30</td>\n",
              "    </tr>\n",
              "    <tr>\n",
              "      <th>1</th>\n",
              "      <td>2019-11-30 15:22:04</td>\n",
              "      <td>2019-11-30 22:52:38</td>\n",
              "      <td>af_purchase</td>\n",
              "      <td>Facebook Ads</td>\n",
              "      <td>2019-11-30</td>\n",
              "      <td>2019-11-30</td>\n",
              "    </tr>\n",
              "    <tr>\n",
              "      <th>2</th>\n",
              "      <td>2019-11-30 22:10:07</td>\n",
              "      <td>2019-11-30 22:43:50</td>\n",
              "      <td>af_purchase</td>\n",
              "      <td>Facebook Ads</td>\n",
              "      <td>2019-11-30</td>\n",
              "      <td>2019-11-30</td>\n",
              "    </tr>\n",
              "    <tr>\n",
              "      <th>3</th>\n",
              "      <td>2019-11-30 15:24:47</td>\n",
              "      <td>2019-11-30 22:43:37</td>\n",
              "      <td>af_purchase</td>\n",
              "      <td>Facebook Ads</td>\n",
              "      <td>2019-11-30</td>\n",
              "      <td>2019-11-30</td>\n",
              "    </tr>\n",
              "    <tr>\n",
              "      <th>4</th>\n",
              "      <td>2019-11-26 23:12:56</td>\n",
              "      <td>2019-11-30 22:38:23</td>\n",
              "      <td>af_purchase</td>\n",
              "      <td>Facebook Ads</td>\n",
              "      <td>2019-11-26</td>\n",
              "      <td>2019-11-30</td>\n",
              "    </tr>\n",
              "  </tbody>\n",
              "</table>\n",
              "</div>\n",
              "      <button class=\"colab-df-convert\" onclick=\"convertToInteractive('df-9a9460ee-9d71-4249-b575-c31945f62b6c')\"\n",
              "              title=\"Convert this dataframe to an interactive table.\"\n",
              "              style=\"display:none;\">\n",
              "        \n",
              "  <svg xmlns=\"http://www.w3.org/2000/svg\" height=\"24px\"viewBox=\"0 0 24 24\"\n",
              "       width=\"24px\">\n",
              "    <path d=\"M0 0h24v24H0V0z\" fill=\"none\"/>\n",
              "    <path d=\"M18.56 5.44l.94 2.06.94-2.06 2.06-.94-2.06-.94-.94-2.06-.94 2.06-2.06.94zm-11 1L8.5 8.5l.94-2.06 2.06-.94-2.06-.94L8.5 2.5l-.94 2.06-2.06.94zm10 10l.94 2.06.94-2.06 2.06-.94-2.06-.94-.94-2.06-.94 2.06-2.06.94z\"/><path d=\"M17.41 7.96l-1.37-1.37c-.4-.4-.92-.59-1.43-.59-.52 0-1.04.2-1.43.59L10.3 9.45l-7.72 7.72c-.78.78-.78 2.05 0 2.83L4 21.41c.39.39.9.59 1.41.59.51 0 1.02-.2 1.41-.59l7.78-7.78 2.81-2.81c.8-.78.8-2.07 0-2.86zM5.41 20L4 18.59l7.72-7.72 1.47 1.35L5.41 20z\"/>\n",
              "  </svg>\n",
              "      </button>\n",
              "      \n",
              "  <style>\n",
              "    .colab-df-container {\n",
              "      display:flex;\n",
              "      flex-wrap:wrap;\n",
              "      gap: 12px;\n",
              "    }\n",
              "\n",
              "    .colab-df-convert {\n",
              "      background-color: #E8F0FE;\n",
              "      border: none;\n",
              "      border-radius: 50%;\n",
              "      cursor: pointer;\n",
              "      display: none;\n",
              "      fill: #1967D2;\n",
              "      height: 32px;\n",
              "      padding: 0 0 0 0;\n",
              "      width: 32px;\n",
              "    }\n",
              "\n",
              "    .colab-df-convert:hover {\n",
              "      background-color: #E2EBFA;\n",
              "      box-shadow: 0px 1px 2px rgba(60, 64, 67, 0.3), 0px 1px 3px 1px rgba(60, 64, 67, 0.15);\n",
              "      fill: #174EA6;\n",
              "    }\n",
              "\n",
              "    [theme=dark] .colab-df-convert {\n",
              "      background-color: #3B4455;\n",
              "      fill: #D2E3FC;\n",
              "    }\n",
              "\n",
              "    [theme=dark] .colab-df-convert:hover {\n",
              "      background-color: #434B5C;\n",
              "      box-shadow: 0px 1px 3px 1px rgba(0, 0, 0, 0.15);\n",
              "      filter: drop-shadow(0px 1px 2px rgba(0, 0, 0, 0.3));\n",
              "      fill: #FFFFFF;\n",
              "    }\n",
              "  </style>\n",
              "\n",
              "      <script>\n",
              "        const buttonEl =\n",
              "          document.querySelector('#df-9a9460ee-9d71-4249-b575-c31945f62b6c button.colab-df-convert');\n",
              "        buttonEl.style.display =\n",
              "          google.colab.kernel.accessAllowed ? 'block' : 'none';\n",
              "\n",
              "        async function convertToInteractive(key) {\n",
              "          const element = document.querySelector('#df-9a9460ee-9d71-4249-b575-c31945f62b6c');\n",
              "          const dataTable =\n",
              "            await google.colab.kernel.invokeFunction('convertToInteractive',\n",
              "                                                     [key], {});\n",
              "          if (!dataTable) return;\n",
              "\n",
              "          const docLinkHtml = 'Like what you see? Visit the ' +\n",
              "            '<a target=\"_blank\" href=https://colab.research.google.com/notebooks/data_table.ipynb>data table notebook</a>'\n",
              "            + ' to learn more about interactive tables.';\n",
              "          element.innerHTML = '';\n",
              "          dataTable['output_type'] = 'display_data';\n",
              "          await google.colab.output.renderOutput(dataTable, element);\n",
              "          const docLink = document.createElement('div');\n",
              "          docLink.innerHTML = docLinkHtml;\n",
              "          element.appendChild(docLink);\n",
              "        }\n",
              "      </script>\n",
              "    </div>\n",
              "  </div>\n",
              "  "
            ]
          },
          "metadata": {},
          "execution_count": 14
        }
      ]
    },
    {
      "cell_type": "markdown",
      "source": [
        "For segregating the data week wise we need one more column which will calculate the difference between install date-time and purchase date-time"
      ],
      "metadata": {
        "id": "9cjPsjxzCWdb"
      }
    },
    {
      "cell_type": "code",
      "source": [
        "purchase['week time'] = purchase['Event Time'] - purchase['Install Time'] # this column will have timedelta format as shown below"
      ],
      "metadata": {
        "id": "TfuElzkgFG0Z"
      },
      "execution_count": 15,
      "outputs": []
    },
    {
      "cell_type": "code",
      "source": [
        "purchase.dtypes"
      ],
      "metadata": {
        "colab": {
          "base_uri": "https://localhost:8080/"
        },
        "id": "8vj1xayZFUES",
        "outputId": "2f21b346-31a2-4a04-db3e-c73339a64d2d"
      },
      "execution_count": 16,
      "outputs": [
        {
          "output_type": "execute_result",
          "data": {
            "text/plain": [
              "Install Time     datetime64[ns]\n",
              "Event Time       datetime64[ns]\n",
              "Event Name               object\n",
              "Media Source             object\n",
              "Install Date             object\n",
              "Event Date               object\n",
              "week time       timedelta64[ns]\n",
              "dtype: object"
            ]
          },
          "metadata": {},
          "execution_count": 16
        }
      ]
    },
    {
      "cell_type": "code",
      "source": [
        "purchase.head()"
      ],
      "metadata": {
        "colab": {
          "base_uri": "https://localhost:8080/",
          "height": 206
        },
        "id": "9umgf7hGC6ud",
        "outputId": "08a6ba66-df7c-4caf-d62f-bf95a765bb49"
      },
      "execution_count": 17,
      "outputs": [
        {
          "output_type": "execute_result",
          "data": {
            "text/plain": [
              "         Install Time          Event Time   Event Name  Media Source  \\\n",
              "0 2019-11-30 22:08:07 2019-11-30 23:17:10  af_purchase  Facebook Ads   \n",
              "1 2019-11-30 15:22:04 2019-11-30 22:52:38  af_purchase  Facebook Ads   \n",
              "2 2019-11-30 22:10:07 2019-11-30 22:43:50  af_purchase  Facebook Ads   \n",
              "3 2019-11-30 15:24:47 2019-11-30 22:43:37  af_purchase  Facebook Ads   \n",
              "4 2019-11-26 23:12:56 2019-11-30 22:38:23  af_purchase  Facebook Ads   \n",
              "\n",
              "  Install Date  Event Date       week time  \n",
              "0   2019-11-30  2019-11-30 0 days 01:09:03  \n",
              "1   2019-11-30  2019-11-30 0 days 07:30:34  \n",
              "2   2019-11-30  2019-11-30 0 days 00:33:43  \n",
              "3   2019-11-30  2019-11-30 0 days 07:18:50  \n",
              "4   2019-11-26  2019-11-30 3 days 23:25:27  "
            ],
            "text/html": [
              "\n",
              "  <div id=\"df-c7d63a70-5486-42d1-a3dc-fe7817d35eec\">\n",
              "    <div class=\"colab-df-container\">\n",
              "      <div>\n",
              "<style scoped>\n",
              "    .dataframe tbody tr th:only-of-type {\n",
              "        vertical-align: middle;\n",
              "    }\n",
              "\n",
              "    .dataframe tbody tr th {\n",
              "        vertical-align: top;\n",
              "    }\n",
              "\n",
              "    .dataframe thead th {\n",
              "        text-align: right;\n",
              "    }\n",
              "</style>\n",
              "<table border=\"1\" class=\"dataframe\">\n",
              "  <thead>\n",
              "    <tr style=\"text-align: right;\">\n",
              "      <th></th>\n",
              "      <th>Install Time</th>\n",
              "      <th>Event Time</th>\n",
              "      <th>Event Name</th>\n",
              "      <th>Media Source</th>\n",
              "      <th>Install Date</th>\n",
              "      <th>Event Date</th>\n",
              "      <th>week time</th>\n",
              "    </tr>\n",
              "  </thead>\n",
              "  <tbody>\n",
              "    <tr>\n",
              "      <th>0</th>\n",
              "      <td>2019-11-30 22:08:07</td>\n",
              "      <td>2019-11-30 23:17:10</td>\n",
              "      <td>af_purchase</td>\n",
              "      <td>Facebook Ads</td>\n",
              "      <td>2019-11-30</td>\n",
              "      <td>2019-11-30</td>\n",
              "      <td>0 days 01:09:03</td>\n",
              "    </tr>\n",
              "    <tr>\n",
              "      <th>1</th>\n",
              "      <td>2019-11-30 15:22:04</td>\n",
              "      <td>2019-11-30 22:52:38</td>\n",
              "      <td>af_purchase</td>\n",
              "      <td>Facebook Ads</td>\n",
              "      <td>2019-11-30</td>\n",
              "      <td>2019-11-30</td>\n",
              "      <td>0 days 07:30:34</td>\n",
              "    </tr>\n",
              "    <tr>\n",
              "      <th>2</th>\n",
              "      <td>2019-11-30 22:10:07</td>\n",
              "      <td>2019-11-30 22:43:50</td>\n",
              "      <td>af_purchase</td>\n",
              "      <td>Facebook Ads</td>\n",
              "      <td>2019-11-30</td>\n",
              "      <td>2019-11-30</td>\n",
              "      <td>0 days 00:33:43</td>\n",
              "    </tr>\n",
              "    <tr>\n",
              "      <th>3</th>\n",
              "      <td>2019-11-30 15:24:47</td>\n",
              "      <td>2019-11-30 22:43:37</td>\n",
              "      <td>af_purchase</td>\n",
              "      <td>Facebook Ads</td>\n",
              "      <td>2019-11-30</td>\n",
              "      <td>2019-11-30</td>\n",
              "      <td>0 days 07:18:50</td>\n",
              "    </tr>\n",
              "    <tr>\n",
              "      <th>4</th>\n",
              "      <td>2019-11-26 23:12:56</td>\n",
              "      <td>2019-11-30 22:38:23</td>\n",
              "      <td>af_purchase</td>\n",
              "      <td>Facebook Ads</td>\n",
              "      <td>2019-11-26</td>\n",
              "      <td>2019-11-30</td>\n",
              "      <td>3 days 23:25:27</td>\n",
              "    </tr>\n",
              "  </tbody>\n",
              "</table>\n",
              "</div>\n",
              "      <button class=\"colab-df-convert\" onclick=\"convertToInteractive('df-c7d63a70-5486-42d1-a3dc-fe7817d35eec')\"\n",
              "              title=\"Convert this dataframe to an interactive table.\"\n",
              "              style=\"display:none;\">\n",
              "        \n",
              "  <svg xmlns=\"http://www.w3.org/2000/svg\" height=\"24px\"viewBox=\"0 0 24 24\"\n",
              "       width=\"24px\">\n",
              "    <path d=\"M0 0h24v24H0V0z\" fill=\"none\"/>\n",
              "    <path d=\"M18.56 5.44l.94 2.06.94-2.06 2.06-.94-2.06-.94-.94-2.06-.94 2.06-2.06.94zm-11 1L8.5 8.5l.94-2.06 2.06-.94-2.06-.94L8.5 2.5l-.94 2.06-2.06.94zm10 10l.94 2.06.94-2.06 2.06-.94-2.06-.94-.94-2.06-.94 2.06-2.06.94z\"/><path d=\"M17.41 7.96l-1.37-1.37c-.4-.4-.92-.59-1.43-.59-.52 0-1.04.2-1.43.59L10.3 9.45l-7.72 7.72c-.78.78-.78 2.05 0 2.83L4 21.41c.39.39.9.59 1.41.59.51 0 1.02-.2 1.41-.59l7.78-7.78 2.81-2.81c.8-.78.8-2.07 0-2.86zM5.41 20L4 18.59l7.72-7.72 1.47 1.35L5.41 20z\"/>\n",
              "  </svg>\n",
              "      </button>\n",
              "      \n",
              "  <style>\n",
              "    .colab-df-container {\n",
              "      display:flex;\n",
              "      flex-wrap:wrap;\n",
              "      gap: 12px;\n",
              "    }\n",
              "\n",
              "    .colab-df-convert {\n",
              "      background-color: #E8F0FE;\n",
              "      border: none;\n",
              "      border-radius: 50%;\n",
              "      cursor: pointer;\n",
              "      display: none;\n",
              "      fill: #1967D2;\n",
              "      height: 32px;\n",
              "      padding: 0 0 0 0;\n",
              "      width: 32px;\n",
              "    }\n",
              "\n",
              "    .colab-df-convert:hover {\n",
              "      background-color: #E2EBFA;\n",
              "      box-shadow: 0px 1px 2px rgba(60, 64, 67, 0.3), 0px 1px 3px 1px rgba(60, 64, 67, 0.15);\n",
              "      fill: #174EA6;\n",
              "    }\n",
              "\n",
              "    [theme=dark] .colab-df-convert {\n",
              "      background-color: #3B4455;\n",
              "      fill: #D2E3FC;\n",
              "    }\n",
              "\n",
              "    [theme=dark] .colab-df-convert:hover {\n",
              "      background-color: #434B5C;\n",
              "      box-shadow: 0px 1px 3px 1px rgba(0, 0, 0, 0.15);\n",
              "      filter: drop-shadow(0px 1px 2px rgba(0, 0, 0, 0.3));\n",
              "      fill: #FFFFFF;\n",
              "    }\n",
              "  </style>\n",
              "\n",
              "      <script>\n",
              "        const buttonEl =\n",
              "          document.querySelector('#df-c7d63a70-5486-42d1-a3dc-fe7817d35eec button.colab-df-convert');\n",
              "        buttonEl.style.display =\n",
              "          google.colab.kernel.accessAllowed ? 'block' : 'none';\n",
              "\n",
              "        async function convertToInteractive(key) {\n",
              "          const element = document.querySelector('#df-c7d63a70-5486-42d1-a3dc-fe7817d35eec');\n",
              "          const dataTable =\n",
              "            await google.colab.kernel.invokeFunction('convertToInteractive',\n",
              "                                                     [key], {});\n",
              "          if (!dataTable) return;\n",
              "\n",
              "          const docLinkHtml = 'Like what you see? Visit the ' +\n",
              "            '<a target=\"_blank\" href=https://colab.research.google.com/notebooks/data_table.ipynb>data table notebook</a>'\n",
              "            + ' to learn more about interactive tables.';\n",
              "          element.innerHTML = '';\n",
              "          dataTable['output_type'] = 'display_data';\n",
              "          await google.colab.output.renderOutput(dataTable, element);\n",
              "          const docLink = document.createElement('div');\n",
              "          docLink.innerHTML = docLinkHtml;\n",
              "          element.appendChild(docLink);\n",
              "        }\n",
              "      </script>\n",
              "    </div>\n",
              "  </div>\n",
              "  "
            ]
          },
          "metadata": {},
          "execution_count": 17
        }
      ]
    },
    {
      "cell_type": "markdown",
      "source": [
        "We will calculate the weeks based on total number of seconds \n",
        "- In one week total number of seconds is **'604800'**"
      ],
      "metadata": {
        "id": "oTQ37w1gDPiE"
      }
    },
    {
      "cell_type": "code",
      "source": [
        "purchase['week time in sec'] = purchase['week time'].dt.total_seconds()"
      ],
      "metadata": {
        "id": "_QFSdh3gJavH"
      },
      "execution_count": 18,
      "outputs": []
    },
    {
      "cell_type": "code",
      "source": [
        "df = purchase "
      ],
      "metadata": {
        "id": "bImJe6mKJ6Bf"
      },
      "execution_count": 19,
      "outputs": []
    },
    {
      "cell_type": "code",
      "source": [
        "# Segregating week wise based on seconds\n",
        "df['Weeks'] = np.where(df['week time in sec']<= 604800, 'Purchase Week 1',\n",
        "                     np.where(df['week time in sec']<= 2*604800, 'Purchase Week 2',\n",
        "                      np.where(df['week time in sec']<= 3*604800, 'Purchase Week 3',\n",
        "                               np.where(df['week time in sec']<= 4*604800, 'Purchase Week 4',\n",
        "                                        np.where(df['week time in sec']<= 5*604800, 'Purchase Week 5','After 5 Weeks')))))"
      ],
      "metadata": {
        "id": "HSlw7plCQvB7"
      },
      "execution_count": 20,
      "outputs": []
    },
    {
      "cell_type": "code",
      "source": [
        "df.head()"
      ],
      "metadata": {
        "colab": {
          "base_uri": "https://localhost:8080/",
          "height": 206
        },
        "id": "YlJsqLpdNIYu",
        "outputId": "bb009573-4c2d-4771-c406-6fad754b2a42"
      },
      "execution_count": 21,
      "outputs": [
        {
          "output_type": "execute_result",
          "data": {
            "text/plain": [
              "         Install Time          Event Time   Event Name  Media Source  \\\n",
              "0 2019-11-30 22:08:07 2019-11-30 23:17:10  af_purchase  Facebook Ads   \n",
              "1 2019-11-30 15:22:04 2019-11-30 22:52:38  af_purchase  Facebook Ads   \n",
              "2 2019-11-30 22:10:07 2019-11-30 22:43:50  af_purchase  Facebook Ads   \n",
              "3 2019-11-30 15:24:47 2019-11-30 22:43:37  af_purchase  Facebook Ads   \n",
              "4 2019-11-26 23:12:56 2019-11-30 22:38:23  af_purchase  Facebook Ads   \n",
              "\n",
              "  Install Date  Event Date       week time  week time in sec            Weeks  \n",
              "0   2019-11-30  2019-11-30 0 days 01:09:03            4143.0  Purchase Week 1  \n",
              "1   2019-11-30  2019-11-30 0 days 07:30:34           27034.0  Purchase Week 1  \n",
              "2   2019-11-30  2019-11-30 0 days 00:33:43            2023.0  Purchase Week 1  \n",
              "3   2019-11-30  2019-11-30 0 days 07:18:50           26330.0  Purchase Week 1  \n",
              "4   2019-11-26  2019-11-30 3 days 23:25:27          343527.0  Purchase Week 1  "
            ],
            "text/html": [
              "\n",
              "  <div id=\"df-0df02339-e8ad-4cb6-a432-36cc739f04cb\">\n",
              "    <div class=\"colab-df-container\">\n",
              "      <div>\n",
              "<style scoped>\n",
              "    .dataframe tbody tr th:only-of-type {\n",
              "        vertical-align: middle;\n",
              "    }\n",
              "\n",
              "    .dataframe tbody tr th {\n",
              "        vertical-align: top;\n",
              "    }\n",
              "\n",
              "    .dataframe thead th {\n",
              "        text-align: right;\n",
              "    }\n",
              "</style>\n",
              "<table border=\"1\" class=\"dataframe\">\n",
              "  <thead>\n",
              "    <tr style=\"text-align: right;\">\n",
              "      <th></th>\n",
              "      <th>Install Time</th>\n",
              "      <th>Event Time</th>\n",
              "      <th>Event Name</th>\n",
              "      <th>Media Source</th>\n",
              "      <th>Install Date</th>\n",
              "      <th>Event Date</th>\n",
              "      <th>week time</th>\n",
              "      <th>week time in sec</th>\n",
              "      <th>Weeks</th>\n",
              "    </tr>\n",
              "  </thead>\n",
              "  <tbody>\n",
              "    <tr>\n",
              "      <th>0</th>\n",
              "      <td>2019-11-30 22:08:07</td>\n",
              "      <td>2019-11-30 23:17:10</td>\n",
              "      <td>af_purchase</td>\n",
              "      <td>Facebook Ads</td>\n",
              "      <td>2019-11-30</td>\n",
              "      <td>2019-11-30</td>\n",
              "      <td>0 days 01:09:03</td>\n",
              "      <td>4143.0</td>\n",
              "      <td>Purchase Week 1</td>\n",
              "    </tr>\n",
              "    <tr>\n",
              "      <th>1</th>\n",
              "      <td>2019-11-30 15:22:04</td>\n",
              "      <td>2019-11-30 22:52:38</td>\n",
              "      <td>af_purchase</td>\n",
              "      <td>Facebook Ads</td>\n",
              "      <td>2019-11-30</td>\n",
              "      <td>2019-11-30</td>\n",
              "      <td>0 days 07:30:34</td>\n",
              "      <td>27034.0</td>\n",
              "      <td>Purchase Week 1</td>\n",
              "    </tr>\n",
              "    <tr>\n",
              "      <th>2</th>\n",
              "      <td>2019-11-30 22:10:07</td>\n",
              "      <td>2019-11-30 22:43:50</td>\n",
              "      <td>af_purchase</td>\n",
              "      <td>Facebook Ads</td>\n",
              "      <td>2019-11-30</td>\n",
              "      <td>2019-11-30</td>\n",
              "      <td>0 days 00:33:43</td>\n",
              "      <td>2023.0</td>\n",
              "      <td>Purchase Week 1</td>\n",
              "    </tr>\n",
              "    <tr>\n",
              "      <th>3</th>\n",
              "      <td>2019-11-30 15:24:47</td>\n",
              "      <td>2019-11-30 22:43:37</td>\n",
              "      <td>af_purchase</td>\n",
              "      <td>Facebook Ads</td>\n",
              "      <td>2019-11-30</td>\n",
              "      <td>2019-11-30</td>\n",
              "      <td>0 days 07:18:50</td>\n",
              "      <td>26330.0</td>\n",
              "      <td>Purchase Week 1</td>\n",
              "    </tr>\n",
              "    <tr>\n",
              "      <th>4</th>\n",
              "      <td>2019-11-26 23:12:56</td>\n",
              "      <td>2019-11-30 22:38:23</td>\n",
              "      <td>af_purchase</td>\n",
              "      <td>Facebook Ads</td>\n",
              "      <td>2019-11-26</td>\n",
              "      <td>2019-11-30</td>\n",
              "      <td>3 days 23:25:27</td>\n",
              "      <td>343527.0</td>\n",
              "      <td>Purchase Week 1</td>\n",
              "    </tr>\n",
              "  </tbody>\n",
              "</table>\n",
              "</div>\n",
              "      <button class=\"colab-df-convert\" onclick=\"convertToInteractive('df-0df02339-e8ad-4cb6-a432-36cc739f04cb')\"\n",
              "              title=\"Convert this dataframe to an interactive table.\"\n",
              "              style=\"display:none;\">\n",
              "        \n",
              "  <svg xmlns=\"http://www.w3.org/2000/svg\" height=\"24px\"viewBox=\"0 0 24 24\"\n",
              "       width=\"24px\">\n",
              "    <path d=\"M0 0h24v24H0V0z\" fill=\"none\"/>\n",
              "    <path d=\"M18.56 5.44l.94 2.06.94-2.06 2.06-.94-2.06-.94-.94-2.06-.94 2.06-2.06.94zm-11 1L8.5 8.5l.94-2.06 2.06-.94-2.06-.94L8.5 2.5l-.94 2.06-2.06.94zm10 10l.94 2.06.94-2.06 2.06-.94-2.06-.94-.94-2.06-.94 2.06-2.06.94z\"/><path d=\"M17.41 7.96l-1.37-1.37c-.4-.4-.92-.59-1.43-.59-.52 0-1.04.2-1.43.59L10.3 9.45l-7.72 7.72c-.78.78-.78 2.05 0 2.83L4 21.41c.39.39.9.59 1.41.59.51 0 1.02-.2 1.41-.59l7.78-7.78 2.81-2.81c.8-.78.8-2.07 0-2.86zM5.41 20L4 18.59l7.72-7.72 1.47 1.35L5.41 20z\"/>\n",
              "  </svg>\n",
              "      </button>\n",
              "      \n",
              "  <style>\n",
              "    .colab-df-container {\n",
              "      display:flex;\n",
              "      flex-wrap:wrap;\n",
              "      gap: 12px;\n",
              "    }\n",
              "\n",
              "    .colab-df-convert {\n",
              "      background-color: #E8F0FE;\n",
              "      border: none;\n",
              "      border-radius: 50%;\n",
              "      cursor: pointer;\n",
              "      display: none;\n",
              "      fill: #1967D2;\n",
              "      height: 32px;\n",
              "      padding: 0 0 0 0;\n",
              "      width: 32px;\n",
              "    }\n",
              "\n",
              "    .colab-df-convert:hover {\n",
              "      background-color: #E2EBFA;\n",
              "      box-shadow: 0px 1px 2px rgba(60, 64, 67, 0.3), 0px 1px 3px 1px rgba(60, 64, 67, 0.15);\n",
              "      fill: #174EA6;\n",
              "    }\n",
              "\n",
              "    [theme=dark] .colab-df-convert {\n",
              "      background-color: #3B4455;\n",
              "      fill: #D2E3FC;\n",
              "    }\n",
              "\n",
              "    [theme=dark] .colab-df-convert:hover {\n",
              "      background-color: #434B5C;\n",
              "      box-shadow: 0px 1px 3px 1px rgba(0, 0, 0, 0.15);\n",
              "      filter: drop-shadow(0px 1px 2px rgba(0, 0, 0, 0.3));\n",
              "      fill: #FFFFFF;\n",
              "    }\n",
              "  </style>\n",
              "\n",
              "      <script>\n",
              "        const buttonEl =\n",
              "          document.querySelector('#df-0df02339-e8ad-4cb6-a432-36cc739f04cb button.colab-df-convert');\n",
              "        buttonEl.style.display =\n",
              "          google.colab.kernel.accessAllowed ? 'block' : 'none';\n",
              "\n",
              "        async function convertToInteractive(key) {\n",
              "          const element = document.querySelector('#df-0df02339-e8ad-4cb6-a432-36cc739f04cb');\n",
              "          const dataTable =\n",
              "            await google.colab.kernel.invokeFunction('convertToInteractive',\n",
              "                                                     [key], {});\n",
              "          if (!dataTable) return;\n",
              "\n",
              "          const docLinkHtml = 'Like what you see? Visit the ' +\n",
              "            '<a target=\"_blank\" href=https://colab.research.google.com/notebooks/data_table.ipynb>data table notebook</a>'\n",
              "            + ' to learn more about interactive tables.';\n",
              "          element.innerHTML = '';\n",
              "          dataTable['output_type'] = 'display_data';\n",
              "          await google.colab.output.renderOutput(dataTable, element);\n",
              "          const docLink = document.createElement('div');\n",
              "          docLink.innerHTML = docLinkHtml;\n",
              "          element.appendChild(docLink);\n",
              "        }\n",
              "      </script>\n",
              "    </div>\n",
              "  </div>\n",
              "  "
            ]
          },
          "metadata": {},
          "execution_count": 21
        }
      ]
    },
    {
      "cell_type": "code",
      "source": [
        "df.columns"
      ],
      "metadata": {
        "colab": {
          "base_uri": "https://localhost:8080/"
        },
        "id": "h-dqXr2dGMcH",
        "outputId": "a3acaeb6-d45e-4fdc-bd40-3ec71294780b"
      },
      "execution_count": 22,
      "outputs": [
        {
          "output_type": "execute_result",
          "data": {
            "text/plain": [
              "Index(['Install Time', 'Event Time', 'Event Name', 'Media Source',\n",
              "       'Install Date', 'Event Date', 'week time', 'week time in sec', 'Weeks'],\n",
              "      dtype='object')"
            ]
          },
          "metadata": {},
          "execution_count": 22
        }
      ]
    },
    {
      "cell_type": "code",
      "source": [
        "#counting and droping unnecessary columns\n",
        "purchase_counts = df.groupby(by = ['Install Date', 'Weeks']).count().drop(columns = ['Event Time', 'Event Name', 'Media Source','Event Date', 'week time', 'week time in sec']).reset_index()"
      ],
      "metadata": {
        "id": "9w_ZET0ePssL"
      },
      "execution_count": 23,
      "outputs": []
    },
    {
      "cell_type": "code",
      "source": [
        "purchase_counts.head(10)"
      ],
      "metadata": {
        "colab": {
          "base_uri": "https://localhost:8080/",
          "height": 363
        },
        "id": "c8pLq4yJSVq_",
        "outputId": "c928c278-c912-4556-d017-eac9493e830d"
      },
      "execution_count": 24,
      "outputs": [
        {
          "output_type": "execute_result",
          "data": {
            "text/plain": [
              "  Install Date            Weeks  Install Time\n",
              "0   2019-11-01    After 5 Weeks            13\n",
              "1   2019-11-01  Purchase Week 1            56\n",
              "2   2019-11-01  Purchase Week 2            13\n",
              "3   2019-11-01  Purchase Week 3             5\n",
              "4   2019-11-01  Purchase Week 4             6\n",
              "5   2019-11-01  Purchase Week 5             3\n",
              "6   2019-11-02    After 5 Weeks            13\n",
              "7   2019-11-02  Purchase Week 1            74\n",
              "8   2019-11-02  Purchase Week 2            10\n",
              "9   2019-11-02  Purchase Week 3             2"
            ],
            "text/html": [
              "\n",
              "  <div id=\"df-f537c568-2305-4d16-a60a-9b0e5f7028c8\">\n",
              "    <div class=\"colab-df-container\">\n",
              "      <div>\n",
              "<style scoped>\n",
              "    .dataframe tbody tr th:only-of-type {\n",
              "        vertical-align: middle;\n",
              "    }\n",
              "\n",
              "    .dataframe tbody tr th {\n",
              "        vertical-align: top;\n",
              "    }\n",
              "\n",
              "    .dataframe thead th {\n",
              "        text-align: right;\n",
              "    }\n",
              "</style>\n",
              "<table border=\"1\" class=\"dataframe\">\n",
              "  <thead>\n",
              "    <tr style=\"text-align: right;\">\n",
              "      <th></th>\n",
              "      <th>Install Date</th>\n",
              "      <th>Weeks</th>\n",
              "      <th>Install Time</th>\n",
              "    </tr>\n",
              "  </thead>\n",
              "  <tbody>\n",
              "    <tr>\n",
              "      <th>0</th>\n",
              "      <td>2019-11-01</td>\n",
              "      <td>After 5 Weeks</td>\n",
              "      <td>13</td>\n",
              "    </tr>\n",
              "    <tr>\n",
              "      <th>1</th>\n",
              "      <td>2019-11-01</td>\n",
              "      <td>Purchase Week 1</td>\n",
              "      <td>56</td>\n",
              "    </tr>\n",
              "    <tr>\n",
              "      <th>2</th>\n",
              "      <td>2019-11-01</td>\n",
              "      <td>Purchase Week 2</td>\n",
              "      <td>13</td>\n",
              "    </tr>\n",
              "    <tr>\n",
              "      <th>3</th>\n",
              "      <td>2019-11-01</td>\n",
              "      <td>Purchase Week 3</td>\n",
              "      <td>5</td>\n",
              "    </tr>\n",
              "    <tr>\n",
              "      <th>4</th>\n",
              "      <td>2019-11-01</td>\n",
              "      <td>Purchase Week 4</td>\n",
              "      <td>6</td>\n",
              "    </tr>\n",
              "    <tr>\n",
              "      <th>5</th>\n",
              "      <td>2019-11-01</td>\n",
              "      <td>Purchase Week 5</td>\n",
              "      <td>3</td>\n",
              "    </tr>\n",
              "    <tr>\n",
              "      <th>6</th>\n",
              "      <td>2019-11-02</td>\n",
              "      <td>After 5 Weeks</td>\n",
              "      <td>13</td>\n",
              "    </tr>\n",
              "    <tr>\n",
              "      <th>7</th>\n",
              "      <td>2019-11-02</td>\n",
              "      <td>Purchase Week 1</td>\n",
              "      <td>74</td>\n",
              "    </tr>\n",
              "    <tr>\n",
              "      <th>8</th>\n",
              "      <td>2019-11-02</td>\n",
              "      <td>Purchase Week 2</td>\n",
              "      <td>10</td>\n",
              "    </tr>\n",
              "    <tr>\n",
              "      <th>9</th>\n",
              "      <td>2019-11-02</td>\n",
              "      <td>Purchase Week 3</td>\n",
              "      <td>2</td>\n",
              "    </tr>\n",
              "  </tbody>\n",
              "</table>\n",
              "</div>\n",
              "      <button class=\"colab-df-convert\" onclick=\"convertToInteractive('df-f537c568-2305-4d16-a60a-9b0e5f7028c8')\"\n",
              "              title=\"Convert this dataframe to an interactive table.\"\n",
              "              style=\"display:none;\">\n",
              "        \n",
              "  <svg xmlns=\"http://www.w3.org/2000/svg\" height=\"24px\"viewBox=\"0 0 24 24\"\n",
              "       width=\"24px\">\n",
              "    <path d=\"M0 0h24v24H0V0z\" fill=\"none\"/>\n",
              "    <path d=\"M18.56 5.44l.94 2.06.94-2.06 2.06-.94-2.06-.94-.94-2.06-.94 2.06-2.06.94zm-11 1L8.5 8.5l.94-2.06 2.06-.94-2.06-.94L8.5 2.5l-.94 2.06-2.06.94zm10 10l.94 2.06.94-2.06 2.06-.94-2.06-.94-.94-2.06-.94 2.06-2.06.94z\"/><path d=\"M17.41 7.96l-1.37-1.37c-.4-.4-.92-.59-1.43-.59-.52 0-1.04.2-1.43.59L10.3 9.45l-7.72 7.72c-.78.78-.78 2.05 0 2.83L4 21.41c.39.39.9.59 1.41.59.51 0 1.02-.2 1.41-.59l7.78-7.78 2.81-2.81c.8-.78.8-2.07 0-2.86zM5.41 20L4 18.59l7.72-7.72 1.47 1.35L5.41 20z\"/>\n",
              "  </svg>\n",
              "      </button>\n",
              "      \n",
              "  <style>\n",
              "    .colab-df-container {\n",
              "      display:flex;\n",
              "      flex-wrap:wrap;\n",
              "      gap: 12px;\n",
              "    }\n",
              "\n",
              "    .colab-df-convert {\n",
              "      background-color: #E8F0FE;\n",
              "      border: none;\n",
              "      border-radius: 50%;\n",
              "      cursor: pointer;\n",
              "      display: none;\n",
              "      fill: #1967D2;\n",
              "      height: 32px;\n",
              "      padding: 0 0 0 0;\n",
              "      width: 32px;\n",
              "    }\n",
              "\n",
              "    .colab-df-convert:hover {\n",
              "      background-color: #E2EBFA;\n",
              "      box-shadow: 0px 1px 2px rgba(60, 64, 67, 0.3), 0px 1px 3px 1px rgba(60, 64, 67, 0.15);\n",
              "      fill: #174EA6;\n",
              "    }\n",
              "\n",
              "    [theme=dark] .colab-df-convert {\n",
              "      background-color: #3B4455;\n",
              "      fill: #D2E3FC;\n",
              "    }\n",
              "\n",
              "    [theme=dark] .colab-df-convert:hover {\n",
              "      background-color: #434B5C;\n",
              "      box-shadow: 0px 1px 3px 1px rgba(0, 0, 0, 0.15);\n",
              "      filter: drop-shadow(0px 1px 2px rgba(0, 0, 0, 0.3));\n",
              "      fill: #FFFFFF;\n",
              "    }\n",
              "  </style>\n",
              "\n",
              "      <script>\n",
              "        const buttonEl =\n",
              "          document.querySelector('#df-f537c568-2305-4d16-a60a-9b0e5f7028c8 button.colab-df-convert');\n",
              "        buttonEl.style.display =\n",
              "          google.colab.kernel.accessAllowed ? 'block' : 'none';\n",
              "\n",
              "        async function convertToInteractive(key) {\n",
              "          const element = document.querySelector('#df-f537c568-2305-4d16-a60a-9b0e5f7028c8');\n",
              "          const dataTable =\n",
              "            await google.colab.kernel.invokeFunction('convertToInteractive',\n",
              "                                                     [key], {});\n",
              "          if (!dataTable) return;\n",
              "\n",
              "          const docLinkHtml = 'Like what you see? Visit the ' +\n",
              "            '<a target=\"_blank\" href=https://colab.research.google.com/notebooks/data_table.ipynb>data table notebook</a>'\n",
              "            + ' to learn more about interactive tables.';\n",
              "          element.innerHTML = '';\n",
              "          dataTable['output_type'] = 'display_data';\n",
              "          await google.colab.output.renderOutput(dataTable, element);\n",
              "          const docLink = document.createElement('div');\n",
              "          docLink.innerHTML = docLinkHtml;\n",
              "          element.appendChild(docLink);\n",
              "        }\n",
              "      </script>\n",
              "    </div>\n",
              "  </div>\n",
              "  "
            ]
          },
          "metadata": {},
          "execution_count": 24
        }
      ]
    },
    {
      "cell_type": "code",
      "source": [
        "#pivoting the index, columns and values\n",
        "purchase_counts = purchase_counts.pivot('Install Date', 'Weeks', 'Install Time')\n",
        "purchase_counts.head()"
      ],
      "metadata": {
        "colab": {
          "base_uri": "https://localhost:8080/",
          "height": 237
        },
        "id": "E4gbFt4STNDL",
        "outputId": "0a53a47c-d060-45cc-e3d4-4a9b75ee78a2"
      },
      "execution_count": 25,
      "outputs": [
        {
          "output_type": "execute_result",
          "data": {
            "text/plain": [
              "Weeks         After 5 Weeks  Purchase Week 1  Purchase Week 2  \\\n",
              "Install Date                                                    \n",
              "2019-11-01             13.0             56.0             13.0   \n",
              "2019-11-02             13.0             74.0             10.0   \n",
              "2019-11-03             13.0             79.0              7.0   \n",
              "2019-11-04              9.0             33.0              6.0   \n",
              "2019-11-05             19.0             45.0              5.0   \n",
              "\n",
              "Weeks         Purchase Week 3  Purchase Week 4  Purchase Week 5  \n",
              "Install Date                                                     \n",
              "2019-11-01                5.0              6.0              3.0  \n",
              "2019-11-02                2.0              5.0              2.0  \n",
              "2019-11-03                5.0              4.0              1.0  \n",
              "2019-11-04                2.0              4.0              3.0  \n",
              "2019-11-05                3.0              5.0              3.0  "
            ],
            "text/html": [
              "\n",
              "  <div id=\"df-7937fb59-3c5b-4c73-978b-cdc777398958\">\n",
              "    <div class=\"colab-df-container\">\n",
              "      <div>\n",
              "<style scoped>\n",
              "    .dataframe tbody tr th:only-of-type {\n",
              "        vertical-align: middle;\n",
              "    }\n",
              "\n",
              "    .dataframe tbody tr th {\n",
              "        vertical-align: top;\n",
              "    }\n",
              "\n",
              "    .dataframe thead th {\n",
              "        text-align: right;\n",
              "    }\n",
              "</style>\n",
              "<table border=\"1\" class=\"dataframe\">\n",
              "  <thead>\n",
              "    <tr style=\"text-align: right;\">\n",
              "      <th>Weeks</th>\n",
              "      <th>After 5 Weeks</th>\n",
              "      <th>Purchase Week 1</th>\n",
              "      <th>Purchase Week 2</th>\n",
              "      <th>Purchase Week 3</th>\n",
              "      <th>Purchase Week 4</th>\n",
              "      <th>Purchase Week 5</th>\n",
              "    </tr>\n",
              "    <tr>\n",
              "      <th>Install Date</th>\n",
              "      <th></th>\n",
              "      <th></th>\n",
              "      <th></th>\n",
              "      <th></th>\n",
              "      <th></th>\n",
              "      <th></th>\n",
              "    </tr>\n",
              "  </thead>\n",
              "  <tbody>\n",
              "    <tr>\n",
              "      <th>2019-11-01</th>\n",
              "      <td>13.0</td>\n",
              "      <td>56.0</td>\n",
              "      <td>13.0</td>\n",
              "      <td>5.0</td>\n",
              "      <td>6.0</td>\n",
              "      <td>3.0</td>\n",
              "    </tr>\n",
              "    <tr>\n",
              "      <th>2019-11-02</th>\n",
              "      <td>13.0</td>\n",
              "      <td>74.0</td>\n",
              "      <td>10.0</td>\n",
              "      <td>2.0</td>\n",
              "      <td>5.0</td>\n",
              "      <td>2.0</td>\n",
              "    </tr>\n",
              "    <tr>\n",
              "      <th>2019-11-03</th>\n",
              "      <td>13.0</td>\n",
              "      <td>79.0</td>\n",
              "      <td>7.0</td>\n",
              "      <td>5.0</td>\n",
              "      <td>4.0</td>\n",
              "      <td>1.0</td>\n",
              "    </tr>\n",
              "    <tr>\n",
              "      <th>2019-11-04</th>\n",
              "      <td>9.0</td>\n",
              "      <td>33.0</td>\n",
              "      <td>6.0</td>\n",
              "      <td>2.0</td>\n",
              "      <td>4.0</td>\n",
              "      <td>3.0</td>\n",
              "    </tr>\n",
              "    <tr>\n",
              "      <th>2019-11-05</th>\n",
              "      <td>19.0</td>\n",
              "      <td>45.0</td>\n",
              "      <td>5.0</td>\n",
              "      <td>3.0</td>\n",
              "      <td>5.0</td>\n",
              "      <td>3.0</td>\n",
              "    </tr>\n",
              "  </tbody>\n",
              "</table>\n",
              "</div>\n",
              "      <button class=\"colab-df-convert\" onclick=\"convertToInteractive('df-7937fb59-3c5b-4c73-978b-cdc777398958')\"\n",
              "              title=\"Convert this dataframe to an interactive table.\"\n",
              "              style=\"display:none;\">\n",
              "        \n",
              "  <svg xmlns=\"http://www.w3.org/2000/svg\" height=\"24px\"viewBox=\"0 0 24 24\"\n",
              "       width=\"24px\">\n",
              "    <path d=\"M0 0h24v24H0V0z\" fill=\"none\"/>\n",
              "    <path d=\"M18.56 5.44l.94 2.06.94-2.06 2.06-.94-2.06-.94-.94-2.06-.94 2.06-2.06.94zm-11 1L8.5 8.5l.94-2.06 2.06-.94-2.06-.94L8.5 2.5l-.94 2.06-2.06.94zm10 10l.94 2.06.94-2.06 2.06-.94-2.06-.94-.94-2.06-.94 2.06-2.06.94z\"/><path d=\"M17.41 7.96l-1.37-1.37c-.4-.4-.92-.59-1.43-.59-.52 0-1.04.2-1.43.59L10.3 9.45l-7.72 7.72c-.78.78-.78 2.05 0 2.83L4 21.41c.39.39.9.59 1.41.59.51 0 1.02-.2 1.41-.59l7.78-7.78 2.81-2.81c.8-.78.8-2.07 0-2.86zM5.41 20L4 18.59l7.72-7.72 1.47 1.35L5.41 20z\"/>\n",
              "  </svg>\n",
              "      </button>\n",
              "      \n",
              "  <style>\n",
              "    .colab-df-container {\n",
              "      display:flex;\n",
              "      flex-wrap:wrap;\n",
              "      gap: 12px;\n",
              "    }\n",
              "\n",
              "    .colab-df-convert {\n",
              "      background-color: #E8F0FE;\n",
              "      border: none;\n",
              "      border-radius: 50%;\n",
              "      cursor: pointer;\n",
              "      display: none;\n",
              "      fill: #1967D2;\n",
              "      height: 32px;\n",
              "      padding: 0 0 0 0;\n",
              "      width: 32px;\n",
              "    }\n",
              "\n",
              "    .colab-df-convert:hover {\n",
              "      background-color: #E2EBFA;\n",
              "      box-shadow: 0px 1px 2px rgba(60, 64, 67, 0.3), 0px 1px 3px 1px rgba(60, 64, 67, 0.15);\n",
              "      fill: #174EA6;\n",
              "    }\n",
              "\n",
              "    [theme=dark] .colab-df-convert {\n",
              "      background-color: #3B4455;\n",
              "      fill: #D2E3FC;\n",
              "    }\n",
              "\n",
              "    [theme=dark] .colab-df-convert:hover {\n",
              "      background-color: #434B5C;\n",
              "      box-shadow: 0px 1px 3px 1px rgba(0, 0, 0, 0.15);\n",
              "      filter: drop-shadow(0px 1px 2px rgba(0, 0, 0, 0.3));\n",
              "      fill: #FFFFFF;\n",
              "    }\n",
              "  </style>\n",
              "\n",
              "      <script>\n",
              "        const buttonEl =\n",
              "          document.querySelector('#df-7937fb59-3c5b-4c73-978b-cdc777398958 button.colab-df-convert');\n",
              "        buttonEl.style.display =\n",
              "          google.colab.kernel.accessAllowed ? 'block' : 'none';\n",
              "\n",
              "        async function convertToInteractive(key) {\n",
              "          const element = document.querySelector('#df-7937fb59-3c5b-4c73-978b-cdc777398958');\n",
              "          const dataTable =\n",
              "            await google.colab.kernel.invokeFunction('convertToInteractive',\n",
              "                                                     [key], {});\n",
              "          if (!dataTable) return;\n",
              "\n",
              "          const docLinkHtml = 'Like what you see? Visit the ' +\n",
              "            '<a target=\"_blank\" href=https://colab.research.google.com/notebooks/data_table.ipynb>data table notebook</a>'\n",
              "            + ' to learn more about interactive tables.';\n",
              "          element.innerHTML = '';\n",
              "          dataTable['output_type'] = 'display_data';\n",
              "          await google.colab.output.renderOutput(dataTable, element);\n",
              "          const docLink = document.createElement('div');\n",
              "          docLink.innerHTML = docLinkHtml;\n",
              "          element.appendChild(docLink);\n",
              "        }\n",
              "      </script>\n",
              "    </div>\n",
              "  </div>\n",
              "  "
            ]
          },
          "metadata": {},
          "execution_count": 25
        }
      ]
    },
    {
      "cell_type": "code",
      "source": [
        "# Rearranging the columns \n",
        "purchase_counts = purchase_counts[['Purchase Week 1', 'Purchase Week 2','Purchase Week 3', 'Purchase Week 4', 'Purchase Week 5' , 'After 5 Weeks']]"
      ],
      "metadata": {
        "id": "NHl_h5HJVVp8"
      },
      "execution_count": 26,
      "outputs": []
    },
    {
      "cell_type": "code",
      "source": [
        "purchase_counts.dtypes"
      ],
      "metadata": {
        "colab": {
          "base_uri": "https://localhost:8080/"
        },
        "id": "ShqBhl8RH4xE",
        "outputId": "5884c11c-ef59-43a4-a3c7-7c560edae8bb"
      },
      "execution_count": 27,
      "outputs": [
        {
          "output_type": "execute_result",
          "data": {
            "text/plain": [
              "Weeks\n",
              "Purchase Week 1    float64\n",
              "Purchase Week 2    float64\n",
              "Purchase Week 3    float64\n",
              "Purchase Week 4    float64\n",
              "Purchase Week 5    float64\n",
              "After 5 Weeks      float64\n",
              "dtype: object"
            ]
          },
          "metadata": {},
          "execution_count": 27
        }
      ]
    },
    {
      "cell_type": "markdown",
      "source": [
        "Now We will join the two data frames as we need to check the total number and installs and purchase made in particular week"
      ],
      "metadata": {
        "id": "oh7_8nO8H5Mn"
      }
    },
    {
      "cell_type": "code",
      "source": [
        "print(total_install_counts.head(), purchase_counts.head())\n",
        "total_install_counts.shape, purchase_counts.shape"
      ],
      "metadata": {
        "colab": {
          "base_uri": "https://localhost:8080/"
        },
        "id": "54KcVF4cIN4Z",
        "outputId": "44d1d9f7-2e94-4bfa-f2c6-c2f28acd04fd"
      },
      "execution_count": 28,
      "outputs": [
        {
          "output_type": "stream",
          "name": "stdout",
          "text": [
            "  Install Date  No of Installs\n",
            "0   2019-11-01            1031\n",
            "1   2019-11-02            1177\n",
            "2   2019-11-03            1335\n",
            "3   2019-11-04             777\n",
            "4   2019-11-05             977 Weeks         Purchase Week 1  Purchase Week 2  Purchase Week 3  \\\n",
            "Install Date                                                      \n",
            "2019-11-01               56.0             13.0              5.0   \n",
            "2019-11-02               74.0             10.0              2.0   \n",
            "2019-11-03               79.0              7.0              5.0   \n",
            "2019-11-04               33.0              6.0              2.0   \n",
            "2019-11-05               45.0              5.0              3.0   \n",
            "\n",
            "Weeks         Purchase Week 4  Purchase Week 5  After 5 Weeks  \n",
            "Install Date                                                   \n",
            "2019-11-01                6.0              3.0           13.0  \n",
            "2019-11-02                5.0              2.0           13.0  \n",
            "2019-11-03                4.0              1.0           13.0  \n",
            "2019-11-04                4.0              3.0            9.0  \n",
            "2019-11-05                5.0              3.0           19.0  \n"
          ]
        },
        {
          "output_type": "execute_result",
          "data": {
            "text/plain": [
              "((60, 2), (60, 6))"
            ]
          },
          "metadata": {},
          "execution_count": 28
        }
      ]
    },
    {
      "cell_type": "markdown",
      "source": [
        "We can join using the column 'Install Date' column"
      ],
      "metadata": {
        "id": "Tcj7faQDIiuT"
      }
    },
    {
      "cell_type": "code",
      "source": [
        "output = total_install_counts.merge(purchase_counts , on = 'Install Date' , how='inner')"
      ],
      "metadata": {
        "id": "HBaxsgqupT94"
      },
      "execution_count": 29,
      "outputs": []
    },
    {
      "cell_type": "code",
      "source": [
        "output.head()"
      ],
      "metadata": {
        "colab": {
          "base_uri": "https://localhost:8080/",
          "height": 206
        },
        "id": "lhuB6RQDpnUl",
        "outputId": "7d0ff792-8b7b-4040-d0ba-2a4c348b2c93"
      },
      "execution_count": 30,
      "outputs": [
        {
          "output_type": "execute_result",
          "data": {
            "text/plain": [
              "  Install Date  No of Installs  Purchase Week 1  Purchase Week 2  \\\n",
              "0   2019-11-01            1031             56.0             13.0   \n",
              "1   2019-11-02            1177             74.0             10.0   \n",
              "2   2019-11-03            1335             79.0              7.0   \n",
              "3   2019-11-04             777             33.0              6.0   \n",
              "4   2019-11-05             977             45.0              5.0   \n",
              "\n",
              "   Purchase Week 3  Purchase Week 4  Purchase Week 5  After 5 Weeks  \n",
              "0              5.0              6.0              3.0           13.0  \n",
              "1              2.0              5.0              2.0           13.0  \n",
              "2              5.0              4.0              1.0           13.0  \n",
              "3              2.0              4.0              3.0            9.0  \n",
              "4              3.0              5.0              3.0           19.0  "
            ],
            "text/html": [
              "\n",
              "  <div id=\"df-2d2f4da8-cfb2-4cea-a462-47c0c6b2aa5d\">\n",
              "    <div class=\"colab-df-container\">\n",
              "      <div>\n",
              "<style scoped>\n",
              "    .dataframe tbody tr th:only-of-type {\n",
              "        vertical-align: middle;\n",
              "    }\n",
              "\n",
              "    .dataframe tbody tr th {\n",
              "        vertical-align: top;\n",
              "    }\n",
              "\n",
              "    .dataframe thead th {\n",
              "        text-align: right;\n",
              "    }\n",
              "</style>\n",
              "<table border=\"1\" class=\"dataframe\">\n",
              "  <thead>\n",
              "    <tr style=\"text-align: right;\">\n",
              "      <th></th>\n",
              "      <th>Install Date</th>\n",
              "      <th>No of Installs</th>\n",
              "      <th>Purchase Week 1</th>\n",
              "      <th>Purchase Week 2</th>\n",
              "      <th>Purchase Week 3</th>\n",
              "      <th>Purchase Week 4</th>\n",
              "      <th>Purchase Week 5</th>\n",
              "      <th>After 5 Weeks</th>\n",
              "    </tr>\n",
              "  </thead>\n",
              "  <tbody>\n",
              "    <tr>\n",
              "      <th>0</th>\n",
              "      <td>2019-11-01</td>\n",
              "      <td>1031</td>\n",
              "      <td>56.0</td>\n",
              "      <td>13.0</td>\n",
              "      <td>5.0</td>\n",
              "      <td>6.0</td>\n",
              "      <td>3.0</td>\n",
              "      <td>13.0</td>\n",
              "    </tr>\n",
              "    <tr>\n",
              "      <th>1</th>\n",
              "      <td>2019-11-02</td>\n",
              "      <td>1177</td>\n",
              "      <td>74.0</td>\n",
              "      <td>10.0</td>\n",
              "      <td>2.0</td>\n",
              "      <td>5.0</td>\n",
              "      <td>2.0</td>\n",
              "      <td>13.0</td>\n",
              "    </tr>\n",
              "    <tr>\n",
              "      <th>2</th>\n",
              "      <td>2019-11-03</td>\n",
              "      <td>1335</td>\n",
              "      <td>79.0</td>\n",
              "      <td>7.0</td>\n",
              "      <td>5.0</td>\n",
              "      <td>4.0</td>\n",
              "      <td>1.0</td>\n",
              "      <td>13.0</td>\n",
              "    </tr>\n",
              "    <tr>\n",
              "      <th>3</th>\n",
              "      <td>2019-11-04</td>\n",
              "      <td>777</td>\n",
              "      <td>33.0</td>\n",
              "      <td>6.0</td>\n",
              "      <td>2.0</td>\n",
              "      <td>4.0</td>\n",
              "      <td>3.0</td>\n",
              "      <td>9.0</td>\n",
              "    </tr>\n",
              "    <tr>\n",
              "      <th>4</th>\n",
              "      <td>2019-11-05</td>\n",
              "      <td>977</td>\n",
              "      <td>45.0</td>\n",
              "      <td>5.0</td>\n",
              "      <td>3.0</td>\n",
              "      <td>5.0</td>\n",
              "      <td>3.0</td>\n",
              "      <td>19.0</td>\n",
              "    </tr>\n",
              "  </tbody>\n",
              "</table>\n",
              "</div>\n",
              "      <button class=\"colab-df-convert\" onclick=\"convertToInteractive('df-2d2f4da8-cfb2-4cea-a462-47c0c6b2aa5d')\"\n",
              "              title=\"Convert this dataframe to an interactive table.\"\n",
              "              style=\"display:none;\">\n",
              "        \n",
              "  <svg xmlns=\"http://www.w3.org/2000/svg\" height=\"24px\"viewBox=\"0 0 24 24\"\n",
              "       width=\"24px\">\n",
              "    <path d=\"M0 0h24v24H0V0z\" fill=\"none\"/>\n",
              "    <path d=\"M18.56 5.44l.94 2.06.94-2.06 2.06-.94-2.06-.94-.94-2.06-.94 2.06-2.06.94zm-11 1L8.5 8.5l.94-2.06 2.06-.94-2.06-.94L8.5 2.5l-.94 2.06-2.06.94zm10 10l.94 2.06.94-2.06 2.06-.94-2.06-.94-.94-2.06-.94 2.06-2.06.94z\"/><path d=\"M17.41 7.96l-1.37-1.37c-.4-.4-.92-.59-1.43-.59-.52 0-1.04.2-1.43.59L10.3 9.45l-7.72 7.72c-.78.78-.78 2.05 0 2.83L4 21.41c.39.39.9.59 1.41.59.51 0 1.02-.2 1.41-.59l7.78-7.78 2.81-2.81c.8-.78.8-2.07 0-2.86zM5.41 20L4 18.59l7.72-7.72 1.47 1.35L5.41 20z\"/>\n",
              "  </svg>\n",
              "      </button>\n",
              "      \n",
              "  <style>\n",
              "    .colab-df-container {\n",
              "      display:flex;\n",
              "      flex-wrap:wrap;\n",
              "      gap: 12px;\n",
              "    }\n",
              "\n",
              "    .colab-df-convert {\n",
              "      background-color: #E8F0FE;\n",
              "      border: none;\n",
              "      border-radius: 50%;\n",
              "      cursor: pointer;\n",
              "      display: none;\n",
              "      fill: #1967D2;\n",
              "      height: 32px;\n",
              "      padding: 0 0 0 0;\n",
              "      width: 32px;\n",
              "    }\n",
              "\n",
              "    .colab-df-convert:hover {\n",
              "      background-color: #E2EBFA;\n",
              "      box-shadow: 0px 1px 2px rgba(60, 64, 67, 0.3), 0px 1px 3px 1px rgba(60, 64, 67, 0.15);\n",
              "      fill: #174EA6;\n",
              "    }\n",
              "\n",
              "    [theme=dark] .colab-df-convert {\n",
              "      background-color: #3B4455;\n",
              "      fill: #D2E3FC;\n",
              "    }\n",
              "\n",
              "    [theme=dark] .colab-df-convert:hover {\n",
              "      background-color: #434B5C;\n",
              "      box-shadow: 0px 1px 3px 1px rgba(0, 0, 0, 0.15);\n",
              "      filter: drop-shadow(0px 1px 2px rgba(0, 0, 0, 0.3));\n",
              "      fill: #FFFFFF;\n",
              "    }\n",
              "  </style>\n",
              "\n",
              "      <script>\n",
              "        const buttonEl =\n",
              "          document.querySelector('#df-2d2f4da8-cfb2-4cea-a462-47c0c6b2aa5d button.colab-df-convert');\n",
              "        buttonEl.style.display =\n",
              "          google.colab.kernel.accessAllowed ? 'block' : 'none';\n",
              "\n",
              "        async function convertToInteractive(key) {\n",
              "          const element = document.querySelector('#df-2d2f4da8-cfb2-4cea-a462-47c0c6b2aa5d');\n",
              "          const dataTable =\n",
              "            await google.colab.kernel.invokeFunction('convertToInteractive',\n",
              "                                                     [key], {});\n",
              "          if (!dataTable) return;\n",
              "\n",
              "          const docLinkHtml = 'Like what you see? Visit the ' +\n",
              "            '<a target=\"_blank\" href=https://colab.research.google.com/notebooks/data_table.ipynb>data table notebook</a>'\n",
              "            + ' to learn more about interactive tables.';\n",
              "          element.innerHTML = '';\n",
              "          dataTable['output_type'] = 'display_data';\n",
              "          await google.colab.output.renderOutput(dataTable, element);\n",
              "          const docLink = document.createElement('div');\n",
              "          docLink.innerHTML = docLinkHtml;\n",
              "          element.appendChild(docLink);\n",
              "        }\n",
              "      </script>\n",
              "    </div>\n",
              "  </div>\n",
              "  "
            ]
          },
          "metadata": {},
          "execution_count": 30
        }
      ]
    },
    {
      "cell_type": "code",
      "source": [
        "# Checking the count of NA value in each columns\n",
        "output.isnull().sum()"
      ],
      "metadata": {
        "colab": {
          "base_uri": "https://localhost:8080/"
        },
        "id": "DEvdRgR6KSFM",
        "outputId": "2fc50887-db97-4a9c-9e31-2b38dffd9d2a"
      },
      "execution_count": 31,
      "outputs": [
        {
          "output_type": "execute_result",
          "data": {
            "text/plain": [
              "Install Date        0\n",
              "No of Installs      0\n",
              "Purchase Week 1     0\n",
              "Purchase Week 2     6\n",
              "Purchase Week 3    17\n",
              "Purchase Week 4    25\n",
              "Purchase Week 5    31\n",
              "After 5 Weeks      36\n",
              "dtype: int64"
            ]
          },
          "metadata": {},
          "execution_count": 31
        }
      ]
    },
    {
      "cell_type": "code",
      "source": [
        "# Replacing it with 0\n",
        "output = output.fillna(0)"
      ],
      "metadata": {
        "id": "p6FNQRJeKi76"
      },
      "execution_count": 32,
      "outputs": []
    },
    {
      "cell_type": "code",
      "source": [
        "output.dtypes"
      ],
      "metadata": {
        "colab": {
          "base_uri": "https://localhost:8080/"
        },
        "id": "b3u3j0Harmvw",
        "outputId": "c14e84f2-5cac-4584-84ad-483b786cf96d"
      },
      "execution_count": 33,
      "outputs": [
        {
          "output_type": "execute_result",
          "data": {
            "text/plain": [
              "Install Date        object\n",
              "No of Installs       int64\n",
              "Purchase Week 1    float64\n",
              "Purchase Week 2    float64\n",
              "Purchase Week 3    float64\n",
              "Purchase Week 4    float64\n",
              "Purchase Week 5    float64\n",
              "After 5 Weeks      float64\n",
              "dtype: object"
            ]
          },
          "metadata": {},
          "execution_count": 33
        }
      ]
    },
    {
      "cell_type": "code",
      "source": [
        "# converting the float value to int\n",
        "output[['Purchase Week 1', 'Purchase Week 2','Purchase Week 3', 'Purchase Week 4', 'Purchase Week 5','After 5 Weeks']] = output[['Purchase Week 1', 'Purchase Week 2','Purchase Week 3', 'Purchase Week 4', 'Purchase Week 5','After 5 Weeks']].astype(int)"
      ],
      "metadata": {
        "id": "kTXrHHnsrSay"
      },
      "execution_count": 34,
      "outputs": []
    },
    {
      "cell_type": "code",
      "source": [
        "output.sample(8)"
      ],
      "metadata": {
        "colab": {
          "base_uri": "https://localhost:8080/",
          "height": 300
        },
        "id": "74cnBiahsit0",
        "outputId": "a1535069-1486-48f3-8405-98c16abe619d"
      },
      "execution_count": 35,
      "outputs": [
        {
          "output_type": "execute_result",
          "data": {
            "text/plain": [
              "   Install Date  No of Installs  Purchase Week 1  Purchase Week 2  \\\n",
              "16   2019-11-17             752               46               16   \n",
              "7    2019-11-08            1194              111               22   \n",
              "51   2019-12-22            1533              239               13   \n",
              "24   2019-11-25             293               18                6   \n",
              "32   2019-12-03             921               27                2   \n",
              "15   2019-11-16             527               21                2   \n",
              "26   2019-11-27             328               21                2   \n",
              "53   2019-12-24            1367               96                1   \n",
              "\n",
              "    Purchase Week 3  Purchase Week 4  Purchase Week 5  After 5 Weeks  \n",
              "16               10                7               10              8  \n",
              "7                12                8               10             14  \n",
              "51                0                0                0              0  \n",
              "24                6               10                7              2  \n",
              "32               18                9                0              0  \n",
              "15                4                0                5              7  \n",
              "26                4                4                1              0  \n",
              "53                0                0                0              0  "
            ],
            "text/html": [
              "\n",
              "  <div id=\"df-9ca74c5f-2293-436c-968a-5baff918451b\">\n",
              "    <div class=\"colab-df-container\">\n",
              "      <div>\n",
              "<style scoped>\n",
              "    .dataframe tbody tr th:only-of-type {\n",
              "        vertical-align: middle;\n",
              "    }\n",
              "\n",
              "    .dataframe tbody tr th {\n",
              "        vertical-align: top;\n",
              "    }\n",
              "\n",
              "    .dataframe thead th {\n",
              "        text-align: right;\n",
              "    }\n",
              "</style>\n",
              "<table border=\"1\" class=\"dataframe\">\n",
              "  <thead>\n",
              "    <tr style=\"text-align: right;\">\n",
              "      <th></th>\n",
              "      <th>Install Date</th>\n",
              "      <th>No of Installs</th>\n",
              "      <th>Purchase Week 1</th>\n",
              "      <th>Purchase Week 2</th>\n",
              "      <th>Purchase Week 3</th>\n",
              "      <th>Purchase Week 4</th>\n",
              "      <th>Purchase Week 5</th>\n",
              "      <th>After 5 Weeks</th>\n",
              "    </tr>\n",
              "  </thead>\n",
              "  <tbody>\n",
              "    <tr>\n",
              "      <th>16</th>\n",
              "      <td>2019-11-17</td>\n",
              "      <td>752</td>\n",
              "      <td>46</td>\n",
              "      <td>16</td>\n",
              "      <td>10</td>\n",
              "      <td>7</td>\n",
              "      <td>10</td>\n",
              "      <td>8</td>\n",
              "    </tr>\n",
              "    <tr>\n",
              "      <th>7</th>\n",
              "      <td>2019-11-08</td>\n",
              "      <td>1194</td>\n",
              "      <td>111</td>\n",
              "      <td>22</td>\n",
              "      <td>12</td>\n",
              "      <td>8</td>\n",
              "      <td>10</td>\n",
              "      <td>14</td>\n",
              "    </tr>\n",
              "    <tr>\n",
              "      <th>51</th>\n",
              "      <td>2019-12-22</td>\n",
              "      <td>1533</td>\n",
              "      <td>239</td>\n",
              "      <td>13</td>\n",
              "      <td>0</td>\n",
              "      <td>0</td>\n",
              "      <td>0</td>\n",
              "      <td>0</td>\n",
              "    </tr>\n",
              "    <tr>\n",
              "      <th>24</th>\n",
              "      <td>2019-11-25</td>\n",
              "      <td>293</td>\n",
              "      <td>18</td>\n",
              "      <td>6</td>\n",
              "      <td>6</td>\n",
              "      <td>10</td>\n",
              "      <td>7</td>\n",
              "      <td>2</td>\n",
              "    </tr>\n",
              "    <tr>\n",
              "      <th>32</th>\n",
              "      <td>2019-12-03</td>\n",
              "      <td>921</td>\n",
              "      <td>27</td>\n",
              "      <td>2</td>\n",
              "      <td>18</td>\n",
              "      <td>9</td>\n",
              "      <td>0</td>\n",
              "      <td>0</td>\n",
              "    </tr>\n",
              "    <tr>\n",
              "      <th>15</th>\n",
              "      <td>2019-11-16</td>\n",
              "      <td>527</td>\n",
              "      <td>21</td>\n",
              "      <td>2</td>\n",
              "      <td>4</td>\n",
              "      <td>0</td>\n",
              "      <td>5</td>\n",
              "      <td>7</td>\n",
              "    </tr>\n",
              "    <tr>\n",
              "      <th>26</th>\n",
              "      <td>2019-11-27</td>\n",
              "      <td>328</td>\n",
              "      <td>21</td>\n",
              "      <td>2</td>\n",
              "      <td>4</td>\n",
              "      <td>4</td>\n",
              "      <td>1</td>\n",
              "      <td>0</td>\n",
              "    </tr>\n",
              "    <tr>\n",
              "      <th>53</th>\n",
              "      <td>2019-12-24</td>\n",
              "      <td>1367</td>\n",
              "      <td>96</td>\n",
              "      <td>1</td>\n",
              "      <td>0</td>\n",
              "      <td>0</td>\n",
              "      <td>0</td>\n",
              "      <td>0</td>\n",
              "    </tr>\n",
              "  </tbody>\n",
              "</table>\n",
              "</div>\n",
              "      <button class=\"colab-df-convert\" onclick=\"convertToInteractive('df-9ca74c5f-2293-436c-968a-5baff918451b')\"\n",
              "              title=\"Convert this dataframe to an interactive table.\"\n",
              "              style=\"display:none;\">\n",
              "        \n",
              "  <svg xmlns=\"http://www.w3.org/2000/svg\" height=\"24px\"viewBox=\"0 0 24 24\"\n",
              "       width=\"24px\">\n",
              "    <path d=\"M0 0h24v24H0V0z\" fill=\"none\"/>\n",
              "    <path d=\"M18.56 5.44l.94 2.06.94-2.06 2.06-.94-2.06-.94-.94-2.06-.94 2.06-2.06.94zm-11 1L8.5 8.5l.94-2.06 2.06-.94-2.06-.94L8.5 2.5l-.94 2.06-2.06.94zm10 10l.94 2.06.94-2.06 2.06-.94-2.06-.94-.94-2.06-.94 2.06-2.06.94z\"/><path d=\"M17.41 7.96l-1.37-1.37c-.4-.4-.92-.59-1.43-.59-.52 0-1.04.2-1.43.59L10.3 9.45l-7.72 7.72c-.78.78-.78 2.05 0 2.83L4 21.41c.39.39.9.59 1.41.59.51 0 1.02-.2 1.41-.59l7.78-7.78 2.81-2.81c.8-.78.8-2.07 0-2.86zM5.41 20L4 18.59l7.72-7.72 1.47 1.35L5.41 20z\"/>\n",
              "  </svg>\n",
              "      </button>\n",
              "      \n",
              "  <style>\n",
              "    .colab-df-container {\n",
              "      display:flex;\n",
              "      flex-wrap:wrap;\n",
              "      gap: 12px;\n",
              "    }\n",
              "\n",
              "    .colab-df-convert {\n",
              "      background-color: #E8F0FE;\n",
              "      border: none;\n",
              "      border-radius: 50%;\n",
              "      cursor: pointer;\n",
              "      display: none;\n",
              "      fill: #1967D2;\n",
              "      height: 32px;\n",
              "      padding: 0 0 0 0;\n",
              "      width: 32px;\n",
              "    }\n",
              "\n",
              "    .colab-df-convert:hover {\n",
              "      background-color: #E2EBFA;\n",
              "      box-shadow: 0px 1px 2px rgba(60, 64, 67, 0.3), 0px 1px 3px 1px rgba(60, 64, 67, 0.15);\n",
              "      fill: #174EA6;\n",
              "    }\n",
              "\n",
              "    [theme=dark] .colab-df-convert {\n",
              "      background-color: #3B4455;\n",
              "      fill: #D2E3FC;\n",
              "    }\n",
              "\n",
              "    [theme=dark] .colab-df-convert:hover {\n",
              "      background-color: #434B5C;\n",
              "      box-shadow: 0px 1px 3px 1px rgba(0, 0, 0, 0.15);\n",
              "      filter: drop-shadow(0px 1px 2px rgba(0, 0, 0, 0.3));\n",
              "      fill: #FFFFFF;\n",
              "    }\n",
              "  </style>\n",
              "\n",
              "      <script>\n",
              "        const buttonEl =\n",
              "          document.querySelector('#df-9ca74c5f-2293-436c-968a-5baff918451b button.colab-df-convert');\n",
              "        buttonEl.style.display =\n",
              "          google.colab.kernel.accessAllowed ? 'block' : 'none';\n",
              "\n",
              "        async function convertToInteractive(key) {\n",
              "          const element = document.querySelector('#df-9ca74c5f-2293-436c-968a-5baff918451b');\n",
              "          const dataTable =\n",
              "            await google.colab.kernel.invokeFunction('convertToInteractive',\n",
              "                                                     [key], {});\n",
              "          if (!dataTable) return;\n",
              "\n",
              "          const docLinkHtml = 'Like what you see? Visit the ' +\n",
              "            '<a target=\"_blank\" href=https://colab.research.google.com/notebooks/data_table.ipynb>data table notebook</a>'\n",
              "            + ' to learn more about interactive tables.';\n",
              "          element.innerHTML = '';\n",
              "          dataTable['output_type'] = 'display_data';\n",
              "          await google.colab.output.renderOutput(dataTable, element);\n",
              "          const docLink = document.createElement('div');\n",
              "          docLink.innerHTML = docLinkHtml;\n",
              "          element.appendChild(docLink);\n",
              "        }\n",
              "      </script>\n",
              "    </div>\n",
              "  </div>\n",
              "  "
            ]
          },
          "metadata": {},
          "execution_count": 35
        }
      ]
    },
    {
      "cell_type": "markdown",
      "source": [
        "Saving the Output data frame to **.csv** file"
      ],
      "metadata": {
        "id": "CWvLZ857LkIG"
      }
    },
    {
      "cell_type": "code",
      "source": [
        "output.to_csv('output.csv', index = False)"
      ],
      "metadata": {
        "id": "Hua48SOUtTOC"
      },
      "execution_count": 36,
      "outputs": []
    },
    {
      "cell_type": "markdown",
      "source": [
        "##**Visualization**"
      ],
      "metadata": {
        "id": "bowAGyzSODsB"
      }
    },
    {
      "cell_type": "code",
      "source": [
        "!pip install jupyter-dash\n",
        "!pip install dash_bootstrap_components "
      ],
      "metadata": {
        "colab": {
          "base_uri": "https://localhost:8080/"
        },
        "id": "QhtovykPd8PR",
        "outputId": "f3b1f4fc-df25-4b9f-cf9a-433f9e95b8e8"
      },
      "execution_count": 37,
      "outputs": [
        {
          "output_type": "stream",
          "name": "stdout",
          "text": [
            "Looking in indexes: https://pypi.org/simple, https://us-python.pkg.dev/colab-wheels/public/simple/\n",
            "Collecting jupyter-dash\n",
            "  Downloading jupyter_dash-0.4.2-py3-none-any.whl (23 kB)\n",
            "Collecting nest-asyncio\n",
            "  Downloading nest_asyncio-1.5.6-py3-none-any.whl (5.2 kB)\n",
            "Collecting dash\n",
            "  Downloading dash-2.6.2-py3-none-any.whl (9.8 MB)\n",
            "\u001b[K     |████████████████████████████████| 9.8 MB 40.7 MB/s \n",
            "\u001b[?25hRequirement already satisfied: flask in /usr/local/lib/python3.7/dist-packages (from jupyter-dash) (1.1.4)\n",
            "Requirement already satisfied: requests in /usr/local/lib/python3.7/dist-packages (from jupyter-dash) (2.23.0)\n",
            "Collecting retrying\n",
            "  Downloading retrying-1.3.3.tar.gz (10 kB)\n",
            "Collecting ansi2html\n",
            "  Downloading ansi2html-1.8.0-py3-none-any.whl (16 kB)\n",
            "Requirement already satisfied: ipykernel in /usr/local/lib/python3.7/dist-packages (from jupyter-dash) (5.3.4)\n",
            "Requirement already satisfied: ipython in /usr/local/lib/python3.7/dist-packages (from jupyter-dash) (7.9.0)\n",
            "Requirement already satisfied: importlib-metadata in /usr/local/lib/python3.7/dist-packages (from ansi2html->jupyter-dash) (5.0.0)\n",
            "Collecting dash-core-components==2.0.0\n",
            "  Downloading dash_core_components-2.0.0-py3-none-any.whl (3.8 kB)\n",
            "Collecting dash-table==5.0.0\n",
            "  Downloading dash_table-5.0.0-py3-none-any.whl (3.9 kB)\n",
            "Collecting flask-compress\n",
            "  Downloading Flask_Compress-1.13-py3-none-any.whl (7.9 kB)\n",
            "Collecting dash-html-components==2.0.0\n",
            "  Downloading dash_html_components-2.0.0-py3-none-any.whl (4.1 kB)\n",
            "Requirement already satisfied: plotly>=5.0.0 in /usr/local/lib/python3.7/dist-packages (from dash->jupyter-dash) (5.5.0)\n",
            "Requirement already satisfied: itsdangerous<2.0,>=0.24 in /usr/local/lib/python3.7/dist-packages (from flask->jupyter-dash) (1.1.0)\n",
            "Requirement already satisfied: Werkzeug<2.0,>=0.15 in /usr/local/lib/python3.7/dist-packages (from flask->jupyter-dash) (1.0.1)\n",
            "Requirement already satisfied: Jinja2<3.0,>=2.10.1 in /usr/local/lib/python3.7/dist-packages (from flask->jupyter-dash) (2.11.3)\n",
            "Requirement already satisfied: click<8.0,>=5.1 in /usr/local/lib/python3.7/dist-packages (from flask->jupyter-dash) (7.1.2)\n",
            "Requirement already satisfied: MarkupSafe>=0.23 in /usr/local/lib/python3.7/dist-packages (from Jinja2<3.0,>=2.10.1->flask->jupyter-dash) (2.0.1)\n",
            "Requirement already satisfied: tenacity>=6.2.0 in /usr/local/lib/python3.7/dist-packages (from plotly>=5.0.0->dash->jupyter-dash) (8.1.0)\n",
            "Requirement already satisfied: six in /usr/local/lib/python3.7/dist-packages (from plotly>=5.0.0->dash->jupyter-dash) (1.15.0)\n",
            "Collecting brotli\n",
            "  Downloading Brotli-1.0.9-cp37-cp37m-manylinux1_x86_64.whl (357 kB)\n",
            "\u001b[K     |████████████████████████████████| 357 kB 51.4 MB/s \n",
            "\u001b[?25hRequirement already satisfied: zipp>=0.5 in /usr/local/lib/python3.7/dist-packages (from importlib-metadata->ansi2html->jupyter-dash) (3.9.0)\n",
            "Requirement already satisfied: typing-extensions>=3.6.4 in /usr/local/lib/python3.7/dist-packages (from importlib-metadata->ansi2html->jupyter-dash) (4.1.1)\n",
            "Requirement already satisfied: tornado>=4.2 in /usr/local/lib/python3.7/dist-packages (from ipykernel->jupyter-dash) (5.1.1)\n",
            "Requirement already satisfied: traitlets>=4.1.0 in /usr/local/lib/python3.7/dist-packages (from ipykernel->jupyter-dash) (5.1.1)\n",
            "Requirement already satisfied: jupyter-client in /usr/local/lib/python3.7/dist-packages (from ipykernel->jupyter-dash) (6.1.12)\n",
            "Requirement already satisfied: pygments in /usr/local/lib/python3.7/dist-packages (from ipython->jupyter-dash) (2.6.1)\n",
            "Requirement already satisfied: backcall in /usr/local/lib/python3.7/dist-packages (from ipython->jupyter-dash) (0.2.0)\n",
            "Requirement already satisfied: decorator in /usr/local/lib/python3.7/dist-packages (from ipython->jupyter-dash) (4.4.2)\n",
            "Requirement already satisfied: pickleshare in /usr/local/lib/python3.7/dist-packages (from ipython->jupyter-dash) (0.7.5)\n",
            "Collecting jedi>=0.10\n",
            "  Downloading jedi-0.18.1-py2.py3-none-any.whl (1.6 MB)\n",
            "\u001b[K     |████████████████████████████████| 1.6 MB 65.6 MB/s \n",
            "\u001b[?25hRequirement already satisfied: setuptools>=18.5 in /usr/local/lib/python3.7/dist-packages (from ipython->jupyter-dash) (57.4.0)\n",
            "Requirement already satisfied: pexpect in /usr/local/lib/python3.7/dist-packages (from ipython->jupyter-dash) (4.8.0)\n",
            "Requirement already satisfied: prompt-toolkit<2.1.0,>=2.0.0 in /usr/local/lib/python3.7/dist-packages (from ipython->jupyter-dash) (2.0.10)\n",
            "Requirement already satisfied: parso<0.9.0,>=0.8.0 in /usr/local/lib/python3.7/dist-packages (from jedi>=0.10->ipython->jupyter-dash) (0.8.3)\n",
            "Requirement already satisfied: wcwidth in /usr/local/lib/python3.7/dist-packages (from prompt-toolkit<2.1.0,>=2.0.0->ipython->jupyter-dash) (0.2.5)\n",
            "Requirement already satisfied: python-dateutil>=2.1 in /usr/local/lib/python3.7/dist-packages (from jupyter-client->ipykernel->jupyter-dash) (2.8.2)\n",
            "Requirement already satisfied: jupyter-core>=4.6.0 in /usr/local/lib/python3.7/dist-packages (from jupyter-client->ipykernel->jupyter-dash) (4.11.1)\n",
            "Requirement already satisfied: pyzmq>=13 in /usr/local/lib/python3.7/dist-packages (from jupyter-client->ipykernel->jupyter-dash) (23.2.1)\n",
            "Requirement already satisfied: ptyprocess>=0.5 in /usr/local/lib/python3.7/dist-packages (from pexpect->ipython->jupyter-dash) (0.7.0)\n",
            "Requirement already satisfied: certifi>=2017.4.17 in /usr/local/lib/python3.7/dist-packages (from requests->jupyter-dash) (2022.9.24)\n",
            "Requirement already satisfied: urllib3!=1.25.0,!=1.25.1,<1.26,>=1.21.1 in /usr/local/lib/python3.7/dist-packages (from requests->jupyter-dash) (1.24.3)\n",
            "Requirement already satisfied: chardet<4,>=3.0.2 in /usr/local/lib/python3.7/dist-packages (from requests->jupyter-dash) (3.0.4)\n",
            "Requirement already satisfied: idna<3,>=2.5 in /usr/local/lib/python3.7/dist-packages (from requests->jupyter-dash) (2.10)\n",
            "Building wheels for collected packages: retrying\n",
            "  Building wheel for retrying (setup.py) ... \u001b[?25l\u001b[?25hdone\n",
            "  Created wheel for retrying: filename=retrying-1.3.3-py3-none-any.whl size=11447 sha256=d34e33e851538c9890c8add0c593a5179d9d67dad9993f1dc410c839307cd4ff\n",
            "  Stored in directory: /root/.cache/pip/wheels/f9/8d/8d/f6af3f7f9eea3553bc2fe6d53e4b287dad18b06a861ac56ddf\n",
            "Successfully built retrying\n",
            "Installing collected packages: jedi, brotli, flask-compress, dash-table, dash-html-components, dash-core-components, retrying, nest-asyncio, dash, ansi2html, jupyter-dash\n",
            "Successfully installed ansi2html-1.8.0 brotli-1.0.9 dash-2.6.2 dash-core-components-2.0.0 dash-html-components-2.0.0 dash-table-5.0.0 flask-compress-1.13 jedi-0.18.1 jupyter-dash-0.4.2 nest-asyncio-1.5.6 retrying-1.3.3\n",
            "Looking in indexes: https://pypi.org/simple, https://us-python.pkg.dev/colab-wheels/public/simple/\n",
            "Collecting dash_bootstrap_components\n",
            "  Downloading dash_bootstrap_components-1.2.1-py3-none-any.whl (216 kB)\n",
            "\u001b[K     |████████████████████████████████| 216 kB 38.3 MB/s \n",
            "\u001b[?25hRequirement already satisfied: dash>=2.0.0 in /usr/local/lib/python3.7/dist-packages (from dash_bootstrap_components) (2.6.2)\n",
            "Requirement already satisfied: dash-core-components==2.0.0 in /usr/local/lib/python3.7/dist-packages (from dash>=2.0.0->dash_bootstrap_components) (2.0.0)\n",
            "Requirement already satisfied: flask-compress in /usr/local/lib/python3.7/dist-packages (from dash>=2.0.0->dash_bootstrap_components) (1.13)\n",
            "Requirement already satisfied: dash-html-components==2.0.0 in /usr/local/lib/python3.7/dist-packages (from dash>=2.0.0->dash_bootstrap_components) (2.0.0)\n",
            "Requirement already satisfied: plotly>=5.0.0 in /usr/local/lib/python3.7/dist-packages (from dash>=2.0.0->dash_bootstrap_components) (5.5.0)\n",
            "Requirement already satisfied: Flask>=1.0.4 in /usr/local/lib/python3.7/dist-packages (from dash>=2.0.0->dash_bootstrap_components) (1.1.4)\n",
            "Requirement already satisfied: dash-table==5.0.0 in /usr/local/lib/python3.7/dist-packages (from dash>=2.0.0->dash_bootstrap_components) (5.0.0)\n",
            "Requirement already satisfied: itsdangerous<2.0,>=0.24 in /usr/local/lib/python3.7/dist-packages (from Flask>=1.0.4->dash>=2.0.0->dash_bootstrap_components) (1.1.0)\n",
            "Requirement already satisfied: click<8.0,>=5.1 in /usr/local/lib/python3.7/dist-packages (from Flask>=1.0.4->dash>=2.0.0->dash_bootstrap_components) (7.1.2)\n",
            "Requirement already satisfied: Werkzeug<2.0,>=0.15 in /usr/local/lib/python3.7/dist-packages (from Flask>=1.0.4->dash>=2.0.0->dash_bootstrap_components) (1.0.1)\n",
            "Requirement already satisfied: Jinja2<3.0,>=2.10.1 in /usr/local/lib/python3.7/dist-packages (from Flask>=1.0.4->dash>=2.0.0->dash_bootstrap_components) (2.11.3)\n",
            "Requirement already satisfied: MarkupSafe>=0.23 in /usr/local/lib/python3.7/dist-packages (from Jinja2<3.0,>=2.10.1->Flask>=1.0.4->dash>=2.0.0->dash_bootstrap_components) (2.0.1)\n",
            "Requirement already satisfied: tenacity>=6.2.0 in /usr/local/lib/python3.7/dist-packages (from plotly>=5.0.0->dash>=2.0.0->dash_bootstrap_components) (8.1.0)\n",
            "Requirement already satisfied: six in /usr/local/lib/python3.7/dist-packages (from plotly>=5.0.0->dash>=2.0.0->dash_bootstrap_components) (1.15.0)\n",
            "Requirement already satisfied: brotli in /usr/local/lib/python3.7/dist-packages (from flask-compress->dash>=2.0.0->dash_bootstrap_components) (1.0.9)\n",
            "Installing collected packages: dash-bootstrap-components\n",
            "Successfully installed dash-bootstrap-components-1.2.1\n"
          ]
        }
      ]
    },
    {
      "cell_type": "code",
      "source": [
        "#installing libraries\n",
        "# pip install jupyter-dash\n",
        "# pip install dash_bootstrap_components \n",
        "\n",
        "#importing libraries\n",
        "import plotly.express as px\n",
        "import plotly.graph_objects as go\n",
        "from jupyter_dash import JupyterDash\n",
        "import dash_bootstrap_components as dbc\n",
        "from dash import Dash, dcc, html, Input, Output\n",
        "\n",
        "# visalization\n",
        "df = output\n",
        "\n",
        "app = JupyterDash(__name__, external_stylesheets=[dbc.themes.BOOTSTRAP])\n",
        "\n",
        "app.layout = html.Div([\n",
        "    html.H4('Week Wise Purchase'),\n",
        "    dbc.Row([dbc.Col(dcc.Dropdown(id = 'select_date', options =[{\"label\": i, \"value\": i}for i in df['Install Date'].unique()], value = '2019-11-01'))]),\n",
        "    html.Br(),\n",
        "    dcc.Graph(id='bar', config= {'displaylogo': False}),\n",
        "    html.Br()\n",
        "])\n",
        "\n",
        "@app.callback(\n",
        "    Output(component_id = 'bar', component_property='figure'),\n",
        "    Input(component_id = \"select_date\", component_property = \"value\")\n",
        "    )\n",
        "\n",
        "def disp(date):\n",
        "    df1 = df[df['Install Date'] == date].T\n",
        "    df1.drop(['Install Date'], inplace = True)\n",
        "    fig = px.bar(df1, x = df1.index , y = df1[0], color = df1[0], template = 'plotly_dark')\n",
        "    return fig\n",
        "app.run_server(mode = 'inline', port = 8051)"
      ],
      "metadata": {
        "colab": {
          "base_uri": "https://localhost:8080/",
          "height": 671
        },
        "id": "TjwhI45DPBtW",
        "outputId": "d81d4960-3e00-4cb5-a362-4950db081ae7"
      },
      "execution_count": 38,
      "outputs": [
        {
          "output_type": "display_data",
          "data": {
            "text/plain": [
              "<IPython.core.display.Javascript object>"
            ],
            "application/javascript": [
              "(async (port, path, width, height, cache, element) => {\n",
              "    if (!google.colab.kernel.accessAllowed && !cache) {\n",
              "      return;\n",
              "    }\n",
              "    element.appendChild(document.createTextNode(''));\n",
              "    const url = await google.colab.kernel.proxyPort(port, {cache});\n",
              "    const iframe = document.createElement('iframe');\n",
              "    iframe.src = new URL(path, url).toString();\n",
              "    iframe.height = height;\n",
              "    iframe.width = width;\n",
              "    iframe.style.border = 0;\n",
              "    element.appendChild(iframe);\n",
              "  })(8051, \"/\", \"100%\", 650, false, window.element)"
            ]
          },
          "metadata": {}
        }
      ]
    },
    {
      "cell_type": "markdown",
      "source": [
        "![image.png](data:image/png;base64,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)"
      ],
      "metadata": {
        "id": "azbiYtv_Dfwc"
      }
    },
    {
      "cell_type": "code",
      "source": [],
      "metadata": {
        "id": "oL3QsNI40j5u"
      },
      "execution_count": 38,
      "outputs": []
    }
  ]
}